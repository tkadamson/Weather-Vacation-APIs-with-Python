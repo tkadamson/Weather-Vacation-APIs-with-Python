{
 "cells": [
  {
   "cell_type": "markdown",
   "metadata": {},
   "source": [
    "# WeatherPy\n",
    "----\n",
    "\n",
    "#### Note\n",
    "* Instructions have been included for each segment. You do not have to follow them exactly, but they are included to help you think through the steps."
   ]
  },
  {
   "cell_type": "code",
   "execution_count": 14,
   "metadata": {
    "scrolled": true
   },
   "outputs": [],
   "source": [
    "# Dependencies and Setup\n",
    "import matplotlib.pyplot as plt\n",
    "import pandas as pd\n",
    "import numpy as np\n",
    "import requests\n",
    "import time\n",
    "from scipy.stats import linregress\n",
    "import json\n",
    "\n",
    "# Import API key\n",
    "from config import api_key\n",
    "\n",
    "# Incorporated citipy to determine city based on latitude and longitude\n",
    "from citipy import citipy\n",
    "\n",
    "# Output File (CSV)\n",
    "output_data_file = \"output_data/cities.csv\"\n",
    "\n",
    "# Range of latitudes and longitudes\n",
    "lat_range = (-90, 90)\n",
    "lng_range = (-180, 180)"
   ]
  },
  {
   "cell_type": "markdown",
   "metadata": {},
   "source": [
    "## Generate Cities List"
   ]
  },
  {
   "cell_type": "code",
   "execution_count": 42,
   "metadata": {},
   "outputs": [],
   "source": [
    "# List for holding lat_lngs and cities\n",
    "lat_lngs = []\n",
    "cities = []\n",
    "\n",
    "# Create a set of random lat and lng combinations\n",
    "lats = np.random.uniform(lat_range[0], lat_range[1], size=1500)\n",
    "lngs = np.random.uniform(lng_range[0], lng_range[1], size=1500)\n",
    "lat_lngs = zip(lats, lngs)\n",
    "\n",
    "# Identify nearest city for each lat, lng combination\n",
    "for lat_lng in lat_lngs:\n",
    "    city = citipy.nearest_city(lat_lng[0], lat_lng[1]).city_name\n",
    "    \n",
    "    # If the city is unique, then add it to a our cities list\n",
    "    if city not in cities:\n",
    "        cities.append(city)\n",
    "\n",
    "# Place those cities into a dataframe\n",
    "cities_df = pd.DataFrame({\"city\": cities})\n",
    "\n",
    "#Create empty columns for the data we want to retrieve from the API\n",
    "cities_df['lat'] = ''\n",
    "cities_df['lng'] = ''\n",
    "cities_df['humidity'] = ''\n",
    "cities_df['temp'] = ''\n",
    "cities_df['clouds'] = ''\n",
    "cities_df['wind'] = ''\n"
   ]
  },
  {
   "cell_type": "markdown",
   "metadata": {},
   "source": [
    "### Perform API Calls\n",
    "* Perform a weather check on each city using a series of successive API calls.\n",
    "* Include a print log of each city as it'sbeing processed (with the city number and city name).\n"
   ]
  },
  {
   "cell_type": "code",
   "execution_count": 50,
   "metadata": {
    "scrolled": true
   },
   "outputs": [
    {
     "name": "stdout",
     "output_type": "stream",
     "text": [
      "longlac is missing field(s) ... skipping\n",
      "attawapiskat is missing field(s) ... skipping\n",
      "karaul is missing field(s) ... skipping\n",
      "amderma is missing field(s) ... skipping\n",
      "palabuhanratu is missing field(s) ... skipping\n",
      "saleaula is missing field(s) ... skipping\n",
      "illoqqortoormiut is missing field(s) ... skipping\n",
      "sentyabrskiy is missing field(s) ... skipping\n",
      "belushya guba is missing field(s) ... skipping\n",
      "marcona is missing field(s) ... skipping\n",
      "ust-kamchatsk is missing field(s) ... skipping\n",
      "vaitupu is missing field(s) ... skipping\n",
      "taolanaro is missing field(s) ... skipping\n",
      "nizhneyansk is missing field(s) ... skipping\n",
      "bolungarvik is missing field(s) ... skipping\n",
      "dien bien is missing field(s) ... skipping\n",
      "tarudant is missing field(s) ... skipping\n",
      "port-de-paix is missing field(s) ... skipping\n",
      "babanusah is missing field(s) ... skipping\n",
      "tumannyy is missing field(s) ... skipping\n",
      "viligili is missing field(s) ... skipping\n",
      "yanan is missing field(s) ... skipping\n",
      "mys shmidta is missing field(s) ... skipping\n",
      "lolua is missing field(s) ... skipping\n",
      "zhuozhou is missing field(s) ... skipping\n",
      "yanchukan is missing field(s) ... skipping\n",
      "tsihombe is missing field(s) ... skipping\n",
      "barentsburg is missing field(s) ... skipping\n",
      "ngukurr is missing field(s) ... skipping\n",
      "nguiu is missing field(s) ... skipping\n",
      "meyungs is missing field(s) ... skipping\n",
      "tabiauea is missing field(s) ... skipping\n",
      "puerto pinasco is missing field(s) ... skipping\n",
      "kegayli is missing field(s) ... skipping\n",
      "barawe is missing field(s) ... skipping\n",
      "mentok is missing field(s) ... skipping\n",
      "kuche is missing field(s) ... skipping\n",
      "sunamganj is missing field(s) ... skipping\n",
      "burica is missing field(s) ... skipping\n",
      "grand river south east is missing field(s) ... skipping\n",
      "ust-bolsheretsk is missing field(s) ... skipping\n",
      "samusu is missing field(s) ... skipping\n",
      "jiddah is missing field(s) ... skipping\n",
      "umm durman is missing field(s) ... skipping\n",
      "rungata is missing field(s) ... skipping\n",
      "we is missing field(s) ... skipping\n"
     ]
    },
    {
     "data": {
      "text/html": [
       "<div>\n",
       "<style scoped>\n",
       "    .dataframe tbody tr th:only-of-type {\n",
       "        vertical-align: middle;\n",
       "    }\n",
       "\n",
       "    .dataframe tbody tr th {\n",
       "        vertical-align: top;\n",
       "    }\n",
       "\n",
       "    .dataframe thead th {\n",
       "        text-align: right;\n",
       "    }\n",
       "</style>\n",
       "<table border=\"1\" class=\"dataframe\">\n",
       "  <thead>\n",
       "    <tr style=\"text-align: right;\">\n",
       "      <th></th>\n",
       "      <th>city</th>\n",
       "      <th>lat</th>\n",
       "      <th>lng</th>\n",
       "      <th>humidity</th>\n",
       "      <th>temp</th>\n",
       "      <th>clouds</th>\n",
       "      <th>wind</th>\n",
       "    </tr>\n",
       "  </thead>\n",
       "  <tbody>\n",
       "    <tr>\n",
       "      <th>0</th>\n",
       "      <td>sangar</td>\n",
       "      <td>63.9242</td>\n",
       "      <td>127.474</td>\n",
       "      <td>77</td>\n",
       "      <td>-45.33</td>\n",
       "      <td>76</td>\n",
       "      <td>3.44</td>\n",
       "    </tr>\n",
       "    <tr>\n",
       "      <th>1</th>\n",
       "      <td>rikitea</td>\n",
       "      <td>-23.1203</td>\n",
       "      <td>-134.969</td>\n",
       "      <td>61</td>\n",
       "      <td>79.68</td>\n",
       "      <td>22</td>\n",
       "      <td>6.55</td>\n",
       "    </tr>\n",
       "    <tr>\n",
       "      <th>2</th>\n",
       "      <td>busselton</td>\n",
       "      <td>-33.65</td>\n",
       "      <td>115.333</td>\n",
       "      <td>45</td>\n",
       "      <td>81</td>\n",
       "      <td>0</td>\n",
       "      <td>3</td>\n",
       "    </tr>\n",
       "    <tr>\n",
       "      <th>3</th>\n",
       "      <td>qaanaaq</td>\n",
       "      <td>77.484</td>\n",
       "      <td>-69.3632</td>\n",
       "      <td>88</td>\n",
       "      <td>-4.02</td>\n",
       "      <td>100</td>\n",
       "      <td>2.26</td>\n",
       "    </tr>\n",
       "    <tr>\n",
       "      <th>4</th>\n",
       "      <td>kruisfontein</td>\n",
       "      <td>-34.0033</td>\n",
       "      <td>24.7314</td>\n",
       "      <td>93</td>\n",
       "      <td>62.01</td>\n",
       "      <td>90</td>\n",
       "      <td>1.99</td>\n",
       "    </tr>\n",
       "    <tr>\n",
       "      <th>...</th>\n",
       "      <td>...</td>\n",
       "      <td>...</td>\n",
       "      <td>...</td>\n",
       "      <td>...</td>\n",
       "      <td>...</td>\n",
       "      <td>...</td>\n",
       "      <td>...</td>\n",
       "    </tr>\n",
       "    <tr>\n",
       "      <th>602</th>\n",
       "      <td>valley</td>\n",
       "      <td>45.1277</td>\n",
       "      <td>-116.126</td>\n",
       "      <td>64</td>\n",
       "      <td>33.8</td>\n",
       "      <td>40</td>\n",
       "      <td>6.91</td>\n",
       "    </tr>\n",
       "    <tr>\n",
       "      <th>603</th>\n",
       "      <td>carndonagh</td>\n",
       "      <td>55.25</td>\n",
       "      <td>-7.2667</td>\n",
       "      <td>84</td>\n",
       "      <td>35.8</td>\n",
       "      <td>100</td>\n",
       "      <td>12.26</td>\n",
       "    </tr>\n",
       "    <tr>\n",
       "      <th>604</th>\n",
       "      <td>ahipara</td>\n",
       "      <td>-35.1667</td>\n",
       "      <td>173.167</td>\n",
       "      <td>56</td>\n",
       "      <td>71.02</td>\n",
       "      <td>2</td>\n",
       "      <td>7.52</td>\n",
       "    </tr>\n",
       "    <tr>\n",
       "      <th>605</th>\n",
       "      <td>vila franca do campo</td>\n",
       "      <td>37.7167</td>\n",
       "      <td>-25.4333</td>\n",
       "      <td>94</td>\n",
       "      <td>61.43</td>\n",
       "      <td>75</td>\n",
       "      <td>21.85</td>\n",
       "    </tr>\n",
       "    <tr>\n",
       "      <th>606</th>\n",
       "      <td>moose factory</td>\n",
       "      <td>51.2585</td>\n",
       "      <td>-80.6094</td>\n",
       "      <td>85</td>\n",
       "      <td>1.4</td>\n",
       "      <td>90</td>\n",
       "      <td>2.3</td>\n",
       "    </tr>\n",
       "  </tbody>\n",
       "</table>\n",
       "<p>607 rows × 7 columns</p>\n",
       "</div>"
      ],
      "text/plain": [
       "                     city      lat      lng humidity   temp clouds   wind\n",
       "0                  sangar  63.9242  127.474       77 -45.33     76   3.44\n",
       "1                 rikitea -23.1203 -134.969       61  79.68     22   6.55\n",
       "2               busselton   -33.65  115.333       45     81      0      3\n",
       "3                 qaanaaq   77.484 -69.3632       88  -4.02    100   2.26\n",
       "4            kruisfontein -34.0033  24.7314       93  62.01     90   1.99\n",
       "..                    ...      ...      ...      ...    ...    ...    ...\n",
       "602                valley  45.1277 -116.126       64   33.8     40   6.91\n",
       "603            carndonagh    55.25  -7.2667       84   35.8    100  12.26\n",
       "604               ahipara -35.1667  173.167       56  71.02      2   7.52\n",
       "605  vila franca do campo  37.7167 -25.4333       94  61.43     75  21.85\n",
       "606         moose factory  51.2585 -80.6094       85    1.4     90    2.3\n",
       "\n",
       "[607 rows x 7 columns]"
      ]
     },
     "execution_count": 50,
     "metadata": {},
     "output_type": "execute_result"
    }
   ],
   "source": [
    "#Grab base url\n",
    "base_url = 'https://api.openweathermap.org/data/2.5/weather?q='\n",
    "\n",
    "for index, row in cities_df.iterrows():\n",
    "    \n",
    "    city_search = row['city']\n",
    "    \n",
    "    #Create full url with imperial units\n",
    "    full_url = f\"{base_url}{city_search}&appid={api_key}&units=imperial\"\n",
    "\n",
    "    weather = requests.get(full_url).json()\n",
    "\n",
    "    #print(json.dumps(weather, indent=4, sort_keys=True))\n",
    "    try:\n",
    "        cities_df.loc[index, 'lat'] = weather['coord']['lat']\n",
    "        cities_df.loc[index, 'lng'] = weather['coord']['lon']\n",
    "        cities_df.loc[index, 'humidity'] = weather['main']['humidity']\n",
    "        cities_df.loc[index, 'temp'] = weather['main']['temp']\n",
    "        cities_df.loc[index, 'clouds'] = weather['clouds']['all']\n",
    "        cities_df.loc[index, 'wind'] = weather['wind']['speed']\n",
    "    except(KeyError, IndexError):\n",
    "        print(f\"{city_search} is missing field(s) ... skipping\")\n",
    "        \n",
    "cities_df\n"
   ]
  },
  {
   "cell_type": "markdown",
   "metadata": {},
   "source": [
    "### Convert Raw Data to DataFrame\n",
    "* Export the city data into a .csv.\n",
    "* Display the DataFrame"
   ]
  },
  {
   "cell_type": "code",
   "execution_count": null,
   "metadata": {},
   "outputs": [],
   "source": []
  },
  {
   "cell_type": "code",
   "execution_count": null,
   "metadata": {},
   "outputs": [],
   "source": []
  },
  {
   "cell_type": "markdown",
   "metadata": {},
   "source": [
    "## Inspect the data and remove the cities where the humidity > 100%.\n",
    "----\n",
    "Skip this step if there are no cities that have humidity > 100%. "
   ]
  },
  {
   "cell_type": "code",
   "execution_count": null,
   "metadata": {},
   "outputs": [],
   "source": []
  },
  {
   "cell_type": "code",
   "execution_count": null,
   "metadata": {},
   "outputs": [],
   "source": [
    "#  Get the indices of cities that have humidity over 100%.\n"
   ]
  },
  {
   "cell_type": "code",
   "execution_count": null,
   "metadata": {},
   "outputs": [],
   "source": [
    "# Make a new DataFrame equal to the city data to drop all humidity outliers by index.\n",
    "# Passing \"inplace=False\" will make a copy of the city_data DataFrame, which we call \"clean_city_data\".\n"
   ]
  },
  {
   "cell_type": "code",
   "execution_count": null,
   "metadata": {},
   "outputs": [],
   "source": [
    "\n"
   ]
  },
  {
   "cell_type": "markdown",
   "metadata": {},
   "source": [
    "## Plotting the Data\n",
    "* Use proper labeling of the plots using plot titles (including date of analysis) and axes labels.\n",
    "* Save the plotted figures as .pngs."
   ]
  },
  {
   "cell_type": "markdown",
   "metadata": {},
   "source": [
    "## Latitude vs. Temperature Plot"
   ]
  },
  {
   "cell_type": "code",
   "execution_count": null,
   "metadata": {
    "scrolled": true
   },
   "outputs": [],
   "source": []
  },
  {
   "cell_type": "markdown",
   "metadata": {},
   "source": [
    "## Latitude vs. Humidity Plot"
   ]
  },
  {
   "cell_type": "code",
   "execution_count": null,
   "metadata": {},
   "outputs": [],
   "source": []
  },
  {
   "cell_type": "markdown",
   "metadata": {},
   "source": [
    "## Latitude vs. Cloudiness Plot"
   ]
  },
  {
   "cell_type": "code",
   "execution_count": null,
   "metadata": {},
   "outputs": [],
   "source": []
  },
  {
   "cell_type": "markdown",
   "metadata": {},
   "source": [
    "## Latitude vs. Wind Speed Plot"
   ]
  },
  {
   "cell_type": "code",
   "execution_count": null,
   "metadata": {},
   "outputs": [],
   "source": []
  },
  {
   "cell_type": "markdown",
   "metadata": {},
   "source": [
    "## Linear Regression"
   ]
  },
  {
   "cell_type": "code",
   "execution_count": null,
   "metadata": {},
   "outputs": [],
   "source": []
  },
  {
   "cell_type": "markdown",
   "metadata": {},
   "source": [
    "####  Northern Hemisphere - Max Temp vs. Latitude Linear Regression"
   ]
  },
  {
   "cell_type": "code",
   "execution_count": null,
   "metadata": {},
   "outputs": [],
   "source": []
  },
  {
   "cell_type": "markdown",
   "metadata": {},
   "source": [
    "####  Southern Hemisphere - Max Temp vs. Latitude Linear Regression"
   ]
  },
  {
   "cell_type": "code",
   "execution_count": null,
   "metadata": {},
   "outputs": [],
   "source": []
  },
  {
   "cell_type": "markdown",
   "metadata": {},
   "source": [
    "####  Northern Hemisphere - Humidity (%) vs. Latitude Linear Regression"
   ]
  },
  {
   "cell_type": "code",
   "execution_count": null,
   "metadata": {},
   "outputs": [],
   "source": []
  },
  {
   "cell_type": "markdown",
   "metadata": {},
   "source": [
    "####  Southern Hemisphere - Humidity (%) vs. Latitude Linear Regression"
   ]
  },
  {
   "cell_type": "code",
   "execution_count": null,
   "metadata": {},
   "outputs": [],
   "source": []
  },
  {
   "cell_type": "markdown",
   "metadata": {},
   "source": [
    "####  Northern Hemisphere - Cloudiness (%) vs. Latitude Linear Regression"
   ]
  },
  {
   "cell_type": "code",
   "execution_count": null,
   "metadata": {},
   "outputs": [],
   "source": []
  },
  {
   "cell_type": "markdown",
   "metadata": {},
   "source": [
    "####  Southern Hemisphere - Cloudiness (%) vs. Latitude Linear Regression"
   ]
  },
  {
   "cell_type": "code",
   "execution_count": null,
   "metadata": {},
   "outputs": [],
   "source": []
  },
  {
   "cell_type": "markdown",
   "metadata": {},
   "source": [
    "####  Northern Hemisphere - Wind Speed (mph) vs. Latitude Linear Regression"
   ]
  },
  {
   "cell_type": "code",
   "execution_count": null,
   "metadata": {},
   "outputs": [],
   "source": []
  },
  {
   "cell_type": "markdown",
   "metadata": {},
   "source": [
    "####  Southern Hemisphere - Wind Speed (mph) vs. Latitude Linear Regression"
   ]
  },
  {
   "cell_type": "code",
   "execution_count": null,
   "metadata": {},
   "outputs": [],
   "source": []
  },
  {
   "cell_type": "code",
   "execution_count": null,
   "metadata": {},
   "outputs": [],
   "source": []
  }
 ],
 "metadata": {
  "anaconda-cloud": {},
  "kernel_info": {
   "name": "python3"
  },
  "kernelspec": {
   "display_name": "Python 3",
   "language": "python",
   "name": "python3"
  },
  "language_info": {
   "codemirror_mode": {
    "name": "ipython",
    "version": 3
   },
   "file_extension": ".py",
   "mimetype": "text/x-python",
   "name": "python",
   "nbconvert_exporter": "python",
   "pygments_lexer": "ipython3",
   "version": "3.6.10"
  },
  "latex_envs": {
   "LaTeX_envs_menu_present": true,
   "autoclose": false,
   "autocomplete": true,
   "bibliofile": "biblio.bib",
   "cite_by": "apalike",
   "current_citInitial": 1,
   "eqLabelWithNumbers": true,
   "eqNumInitial": 1,
   "hotkeys": {
    "equation": "Ctrl-E",
    "itemize": "Ctrl-I"
   },
   "labels_anchors": false,
   "latex_user_defs": false,
   "report_style_numbering": false,
   "user_envs_cfg": false
  },
  "nteract": {
   "version": "0.12.3"
  }
 },
 "nbformat": 4,
 "nbformat_minor": 2
}
