{
 "cells": [
  {
   "cell_type": "markdown",
   "metadata": {},
   "source": [
    "# WeatherPy\n",
    "----\n",
    "\n",
    "#### Note\n",
    "* Instructions have been included for each segment. You do not have to follow them exactly, but they are included to help you think through the steps."
   ]
  },
  {
   "cell_type": "code",
   "execution_count": 1,
   "metadata": {
    "scrolled": true
   },
   "outputs": [],
   "source": [
    "# Dependencies and Setup\n",
    "import matplotlib.pyplot as plt\n",
    "import pandas as pd\n",
    "import numpy as np\n",
    "import requests\n",
    "import time\n",
    "from scipy.stats import linregress\n",
    "import json\n",
    "\n",
    "# Import API key\n",
    "from config import api_key\n",
    "\n",
    "# Incorporated citipy to determine city based on latitude and longitude\n",
    "from citipy import citipy\n",
    "\n",
    "# Range of latitudes and longitudes\n",
    "lat_range = (-90, 90)\n",
    "lng_range = (-180, 180)"
   ]
  },
  {
   "cell_type": "markdown",
   "metadata": {},
   "source": [
    "## Generate Cities List"
   ]
  },
  {
   "cell_type": "code",
   "execution_count": 2,
   "metadata": {},
   "outputs": [],
   "source": [
    "# List for holding lat_lngs and cities\n",
    "lat_lngs = []\n",
    "cities = []\n",
    "\n",
    "# Create a set of random lat and lng combinations\n",
    "lats = np.random.uniform(lat_range[0], lat_range[1], size=1500)\n",
    "lngs = np.random.uniform(lng_range[0], lng_range[1], size=1500)\n",
    "lat_lngs = zip(lats, lngs)\n",
    "\n",
    "# Identify nearest city for each lat, lng combination\n",
    "for lat_lng in lat_lngs:\n",
    "    city = citipy.nearest_city(lat_lng[0], lat_lng[1]).city_name\n",
    "    \n",
    "    # If the city is unique, then add it to a our cities list\n",
    "    if city not in cities:\n",
    "        cities.append(city)\n",
    "\n",
    "# Place those cities into a dataframe\n",
    "cities_df = pd.DataFrame({\"city\": cities})\n",
    "\n",
    "#Create empty columns for the data we want to retrieve from the API\n",
    "cities_df['lat'] = ''\n",
    "cities_df['lng'] = ''\n",
    "cities_df['humidity'] = ''\n",
    "cities_df['temp'] = ''\n",
    "cities_df['max_temp'] = ''\n",
    "cities_df['clouds'] = ''\n",
    "cities_df['wind'] = ''\n"
   ]
  },
  {
   "cell_type": "markdown",
   "metadata": {},
   "source": [
    "### Perform API Calls\n",
    "* Perform a weather check on each city using a series of successive API calls.\n",
    "* Include a print log of each city as it'sbeing processed (with the city number and city name).\n"
   ]
  },
  {
   "cell_type": "code",
   "execution_count": 3,
   "metadata": {
    "scrolled": true
   },
   "outputs": [
    {
     "name": "stdout",
     "output_type": "stream",
     "text": [
      "Requesting data for shingu...\n",
      "Requesting data for punta arenas...\n",
      "Requesting data for yellowknife...\n",
      "Requesting data for busselton...\n",
      "Requesting data for masuguru...\n",
      "Requesting data for port alfred...\n",
      "Requesting data for marquette...\n",
      "Requesting data for fortuna...\n",
      "Requesting data for chokurdakh...\n",
      "Requesting data for uarini...\n",
      "Requesting data for mataura...\n",
      "Requesting data for puerto del rosario...\n",
      "Requesting data for habiganj...\n",
      "Requesting data for ribeira grande...\n",
      "Requesting data for mount gambier...\n",
      "Requesting data for hermanus...\n",
      "Requesting data for huangzhai...\n",
      "Requesting data for dikson...\n",
      "Requesting data for serenje...\n",
      "Requesting data for cape town...\n",
      "Requesting data for muros...\n",
      "Requesting data for albany...\n",
      "Requesting data for cabo san lucas...\n",
      "Requesting data for tuktoyaktuk...\n",
      "Requesting data for marcona...\n",
      "marcona is missing field(s) ... skipping\n",
      "Requesting data for avarua...\n",
      "Requesting data for bereda...\n",
      "Requesting data for kiruna...\n",
      "Requesting data for verkhnetulomskiy...\n",
      "Requesting data for la ronge...\n",
      "Requesting data for khonuu...\n",
      "khonuu is missing field(s) ... skipping\n",
      "Requesting data for taolanaro...\n",
      "taolanaro is missing field(s) ... skipping\n",
      "Requesting data for aswan...\n",
      "Requesting data for carikar...\n",
      "carikar is missing field(s) ... skipping\n",
      "Requesting data for rikitea...\n",
      "Requesting data for tsihombe...\n",
      "tsihombe is missing field(s) ... skipping\n",
      "Requesting data for tautira...\n",
      "Requesting data for miri...\n",
      "Requesting data for muisne...\n",
      "Requesting data for hovd...\n",
      "Requesting data for srednekolymsk...\n",
      "Requesting data for ushuaia...\n",
      "Requesting data for esperance...\n",
      "Requesting data for atuona...\n",
      "Requesting data for carnarvon...\n",
      "Requesting data for jamestown...\n",
      "Requesting data for caraguatay...\n",
      "Requesting data for saskylakh...\n",
      "Requesting data for hami...\n",
      "Requesting data for opunake...\n",
      "Requesting data for new norfolk...\n",
      "Requesting data for kapaa...\n",
      "Requesting data for vaitupu...\n",
      "vaitupu is missing field(s) ... skipping\n",
      "Requesting data for barrow...\n",
      "Requesting data for shimoda...\n",
      "Requesting data for mogadishu...\n",
      "Requesting data for key largo...\n",
      "Requesting data for solnechnyy...\n",
      "Requesting data for kawalu...\n",
      "Requesting data for emba...\n",
      "Requesting data for malayal...\n",
      "Requesting data for salinas...\n",
      "Requesting data for norman wells...\n",
      "Requesting data for ibra...\n",
      "Requesting data for thompson...\n",
      "Requesting data for castro...\n",
      "Requesting data for multai...\n",
      "Requesting data for jujuy...\n",
      "jujuy is missing field(s) ... skipping\n",
      "Requesting data for mys shmidta...\n",
      "mys shmidta is missing field(s) ... skipping\n",
      "Requesting data for illoqqortoormiut...\n",
      "illoqqortoormiut is missing field(s) ... skipping\n",
      "Requesting data for moche...\n",
      "Requesting data for upernavik...\n",
      "Requesting data for bluff...\n",
      "Requesting data for bloomington...\n",
      "Requesting data for temaraia...\n",
      "temaraia is missing field(s) ... skipping\n",
      "Requesting data for hilo...\n",
      "Requesting data for alipur duar...\n",
      "alipur duar is missing field(s) ... skipping\n",
      "Requesting data for amderma...\n",
      "amderma is missing field(s) ... skipping\n",
      "Requesting data for saint anthony...\n",
      "Requesting data for pemberton...\n",
      "Requesting data for kruisfontein...\n",
      "Requesting data for butaritari...\n",
      "Requesting data for cherskiy...\n",
      "Requesting data for nanhai...\n",
      "Requesting data for veracruz...\n",
      "Requesting data for karamea...\n",
      "karamea is missing field(s) ... skipping\n",
      "Requesting data for bredasdorp...\n",
      "Requesting data for ponta do sol...\n",
      "Requesting data for atasu...\n",
      "Requesting data for georgetown...\n",
      "Requesting data for cockburn town...\n",
      "Requesting data for tuatapere...\n",
      "Requesting data for hithadhoo...\n",
      "Requesting data for killarney...\n",
      "Requesting data for ancud...\n",
      "Requesting data for soyo...\n",
      "Requesting data for boa vista...\n",
      "Requesting data for bambous virieux...\n",
      "Requesting data for east london...\n",
      "Requesting data for tawang...\n",
      "Requesting data for khanu woralaksaburi...\n",
      "Requesting data for teahupoo...\n",
      "Requesting data for dimitrovgrad...\n",
      "Requesting data for aklavik...\n",
      "Requesting data for harnai...\n",
      "Requesting data for santa cruz...\n",
      "Requesting data for college...\n",
      "Requesting data for chilmari...\n",
      "Requesting data for hervey bay...\n",
      "Requesting data for luderitz...\n",
      "Requesting data for baripada...\n",
      "Requesting data for qaanaaq...\n",
      "Requesting data for taoudenni...\n",
      "Requesting data for khatanga...\n",
      "Requesting data for benghazi...\n",
      "Requesting data for shache...\n",
      "Requesting data for baltay...\n",
      "Requesting data for sitka...\n",
      "Requesting data for cefalu...\n",
      "Requesting data for talcahuano...\n",
      "Requesting data for ust-maya...\n",
      "Requesting data for narsaq...\n",
      "Requesting data for mar del plata...\n",
      "Requesting data for luocheng...\n",
      "Requesting data for asfi...\n",
      "Requesting data for hambantota...\n",
      "Requesting data for arraial do cabo...\n",
      "Requesting data for gasa...\n",
      "Requesting data for svetlogorsk...\n",
      "Requesting data for jaciara...\n",
      "Requesting data for olafsvik...\n",
      "Requesting data for mujiayingzi...\n",
      "Requesting data for port elizabeth...\n",
      "Requesting data for salvador...\n",
      "Requesting data for constitucion...\n",
      "Requesting data for naryan-mar...\n",
      "Requesting data for saint-augustin...\n",
      "Requesting data for bafia...\n",
      "Requesting data for mehamn...\n",
      "Requesting data for faya...\n",
      "Requesting data for fuzhou...\n",
      "Requesting data for jilmah...\n",
      "jilmah is missing field(s) ... skipping\n",
      "Requesting data for novokayakent...\n",
      "Requesting data for russell...\n",
      "Requesting data for fairbanks...\n",
      "Requesting data for adrar...\n",
      "Requesting data for cabatuan...\n",
      "Requesting data for vaini...\n",
      "Requesting data for san patricio...\n",
      "Requesting data for anloga...\n",
      "Requesting data for lorengau...\n",
      "Requesting data for mayo...\n",
      "Requesting data for puerto ayora...\n",
      "Requesting data for jamame...\n",
      "Requesting data for vanimo...\n",
      "Requesting data for sentyabrskiy...\n",
      "sentyabrskiy is missing field(s) ... skipping\n",
      "Requesting data for torbay...\n",
      "Requesting data for chuy...\n",
      "Requesting data for ciudad guayana...\n",
      "Requesting data for caucaia...\n",
      "Requesting data for porto seguro...\n",
      "Requesting data for cidreira...\n",
      "Requesting data for pemangkat...\n",
      "Requesting data for zambezi...\n",
      "Requesting data for saint-philippe...\n",
      "Requesting data for yerbogachen...\n",
      "Requesting data for gumdag...\n",
      "Requesting data for kodiak...\n",
      "Requesting data for nizhneyansk...\n",
      "nizhneyansk is missing field(s) ... skipping\n",
      "Requesting data for tigil...\n",
      "Requesting data for henties bay...\n",
      "Requesting data for chita...\n",
      "Requesting data for tiarei...\n",
      "Requesting data for amapa...\n",
      "Requesting data for lephepe...\n",
      "lephepe is missing field(s) ... skipping\n",
      "Requesting data for hobart...\n",
      "Requesting data for tiksi...\n",
      "Requesting data for chulman...\n",
      "Requesting data for sokoto...\n",
      "Requesting data for comodoro rivadavia...\n",
      "Requesting data for paralimni...\n",
      "Requesting data for nikolskoye...\n",
      "Requesting data for provideniya...\n",
      "Requesting data for namibe...\n",
      "Requesting data for itoman...\n",
      "Requesting data for preobrazheniye...\n",
      "Requesting data for ilulissat...\n",
      "Requesting data for usinsk...\n",
      "Requesting data for lebu...\n",
      "Requesting data for cervo...\n",
      "Requesting data for roma...\n",
      "Requesting data for grand centre...\n",
      "grand centre is missing field(s) ... skipping\n",
      "Requesting data for saint-pierre...\n",
      "Requesting data for tura...\n",
      "Requesting data for husavik...\n",
      "Requesting data for codrington...\n",
      "Requesting data for kushiro...\n",
      "Requesting data for attawapiskat...\n",
      "attawapiskat is missing field(s) ... skipping\n",
      "Requesting data for westport...\n",
      "Requesting data for kupang...\n",
      "Requesting data for ixtapa...\n",
      "Requesting data for gornopravdinsk...\n",
      "Requesting data for ostrovnoy...\n",
      "Requesting data for sao joao da barra...\n",
      "Requesting data for sinnar...\n",
      "Requesting data for port-gentil...\n",
      "Requesting data for niltepec...\n",
      "Requesting data for ahipara...\n",
      "Requesting data for celestun...\n",
      "Requesting data for clyde river...\n",
      "Requesting data for leopold...\n",
      "Requesting data for roald...\n",
      "Requesting data for severo-kurilsk...\n",
      "Requesting data for pevek...\n",
      "Requesting data for vila velha...\n",
      "Requesting data for half moon bay...\n",
      "Requesting data for saint-ambroise...\n",
      "Requesting data for port lincoln...\n",
      "Requesting data for caravelas...\n",
      "Requesting data for belushya guba...\n",
      "belushya guba is missing field(s) ... skipping\n",
      "Requesting data for sechura...\n",
      "Requesting data for pangody...\n",
      "Requesting data for palaiokhora...\n",
      "palaiokhora is missing field(s) ... skipping\n",
      "Requesting data for plettenberg bay...\n",
      "Requesting data for manga...\n"
     ]
    },
    {
     "name": "stdout",
     "output_type": "stream",
     "text": [
      "Requesting data for lingyuan...\n",
      "Requesting data for jinxiang...\n",
      "Requesting data for concarneau...\n",
      "Requesting data for bambui...\n",
      "Requesting data for richmond...\n",
      "Requesting data for vao...\n",
      "Requesting data for hay river...\n",
      "Requesting data for mahebourg...\n",
      "Requesting data for tasiilaq...\n",
      "Requesting data for santiago...\n",
      "Requesting data for mafinga...\n",
      "Requesting data for bathsheba...\n",
      "Requesting data for yar-sale...\n",
      "Requesting data for bay roberts...\n",
      "Requesting data for salalah...\n",
      "Requesting data for opuwo...\n",
      "Requesting data for moose factory...\n",
      "Requesting data for biak...\n",
      "Requesting data for coos bay...\n",
      "Requesting data for qaqortoq...\n",
      "Requesting data for labelle...\n",
      "Requesting data for airai...\n",
      "Requesting data for faanui...\n",
      "Requesting data for sovetskoye...\n",
      "Requesting data for pietarsaari...\n",
      "Requesting data for lagoa...\n",
      "Requesting data for meridian...\n",
      "Requesting data for arman...\n",
      "Requesting data for gillette...\n",
      "Requesting data for nguiu...\n",
      "nguiu is missing field(s) ... skipping\n",
      "Requesting data for kaeo...\n",
      "Requesting data for nouadhibou...\n",
      "Requesting data for port macquarie...\n",
      "Requesting data for baykit...\n",
      "Requesting data for carutapera...\n",
      "Requesting data for akhmim...\n",
      "Requesting data for christchurch...\n",
      "Requesting data for vila...\n",
      "Requesting data for namtsy...\n",
      "Requesting data for kabo...\n",
      "Requesting data for tidore...\n",
      "tidore is missing field(s) ... skipping\n",
      "Requesting data for yuli...\n",
      "Requesting data for san quintin...\n",
      "Requesting data for jales...\n",
      "Requesting data for coffs harbour...\n",
      "Requesting data for gombong...\n",
      "Requesting data for kangaatsiaq...\n",
      "Requesting data for kaitangata...\n",
      "Requesting data for karanganom...\n",
      "Requesting data for geraldton...\n",
      "Requesting data for san francisco de becerra...\n",
      "Requesting data for kuytun...\n",
      "Requesting data for yuci...\n",
      "Requesting data for kerman...\n",
      "Requesting data for sidrolandia...\n",
      "Requesting data for port hardy...\n",
      "Requesting data for pisco...\n",
      "Requesting data for fomboni...\n",
      "Requesting data for magistralnyy...\n",
      "Requesting data for dingle...\n",
      "Requesting data for port moresby...\n",
      "Requesting data for lompoc...\n",
      "Requesting data for boulder city...\n",
      "Requesting data for sibolga...\n",
      "Requesting data for kimbe...\n",
      "Requesting data for viedma...\n",
      "Requesting data for talnakh...\n",
      "Requesting data for vavuniya...\n",
      "Requesting data for pacific grove...\n",
      "Requesting data for burica...\n",
      "burica is missing field(s) ... skipping\n",
      "Requesting data for turkistan...\n",
      "Requesting data for corinto...\n",
      "Requesting data for kavieng...\n",
      "Requesting data for bolungarvik...\n",
      "bolungarvik is missing field(s) ... skipping\n",
      "Requesting data for sao filipe...\n",
      "Requesting data for buchanan...\n",
      "Requesting data for abu zabad...\n",
      "Requesting data for vetluzhskiy...\n",
      "Requesting data for kovdor...\n",
      "Requesting data for marrakesh...\n",
      "Requesting data for bandarbeyla...\n",
      "Requesting data for tahta...\n",
      "Requesting data for babanusah...\n",
      "babanusah is missing field(s) ... skipping\n",
      "Requesting data for diamantino...\n",
      "Requesting data for bilibino...\n",
      "Requesting data for kysyl-syr...\n",
      "Requesting data for konevo...\n",
      "Requesting data for brumado...\n",
      "Requesting data for yeppoon...\n",
      "Requesting data for jatiroto...\n",
      "Requesting data for wad madani...\n",
      "Requesting data for magui...\n",
      "magui is missing field(s) ... skipping\n",
      "Requesting data for longyearbyen...\n",
      "Requesting data for rio pardo...\n",
      "Requesting data for araceli...\n",
      "Requesting data for saint george...\n",
      "Requesting data for parakai...\n",
      "Requesting data for payo...\n",
      "Requesting data for nancha...\n",
      "Requesting data for kurchum...\n",
      "Requesting data for kahului...\n",
      "Requesting data for zhanatas...\n",
      "zhanatas is missing field(s) ... skipping\n",
      "Requesting data for kabinda...\n",
      "Requesting data for touros...\n",
      "Requesting data for putnam...\n",
      "Requesting data for belyy yar...\n",
      "Requesting data for honiara...\n",
      "Requesting data for tucuman...\n",
      "Requesting data for dzhusaly...\n",
      "dzhusaly is missing field(s) ... skipping\n",
      "Requesting data for robe...\n",
      "Requesting data for shanghai...\n",
      "Requesting data for chimoio...\n",
      "Requesting data for tolaga bay...\n",
      "Requesting data for jinchengjiang...\n",
      "jinchengjiang is missing field(s) ... skipping\n",
      "Requesting data for samarkand...\n",
      "Requesting data for nome...\n",
      "Requesting data for sri aman...\n",
      "Requesting data for bezhetsk...\n",
      "Requesting data for gayny...\n",
      "Requesting data for nanakuli...\n",
      "Requesting data for putnok...\n",
      "Requesting data for aksu...\n",
      "Requesting data for araguari...\n",
      "Requesting data for whitehorse...\n",
      "Requesting data for norsup...\n",
      "Requesting data for umzimvubu...\n",
      "umzimvubu is missing field(s) ... skipping\n",
      "Requesting data for iquitos...\n",
      "Requesting data for atar...\n",
      "Requesting data for bethel...\n",
      "Requesting data for penzance...\n",
      "Requesting data for meadow lake...\n",
      "Requesting data for geneva...\n",
      "Requesting data for shihezi...\n",
      "Requesting data for tomatlan...\n",
      "Requesting data for coihaique...\n",
      "Requesting data for verkhnevilyuysk...\n",
      "Requesting data for chilca...\n",
      "Requesting data for kenai...\n",
      "Requesting data for rawson...\n",
      "Requesting data for kavaratti...\n",
      "Requesting data for jieshi...\n",
      "Requesting data for calvinia...\n",
      "Requesting data for pamekasan...\n",
      "Requesting data for jeremie...\n",
      "Requesting data for samarai...\n",
      "Requesting data for rocha...\n",
      "Requesting data for port-de-paix...\n",
      "port-de-paix is missing field(s) ... skipping\n",
      "Requesting data for lokosovo...\n",
      "Requesting data for naze...\n",
      "Requesting data for kinna...\n",
      "Requesting data for fontenay-le-comte...\n",
      "Requesting data for chunskiy...\n",
      "Requesting data for rolla...\n",
      "Requesting data for barentsburg...\n",
      "barentsburg is missing field(s) ... skipping\n",
      "Requesting data for ucluelet...\n",
      "Requesting data for malwan...\n",
      "malwan is missing field(s) ... skipping\n",
      "Requesting data for haines junction...\n",
      "Requesting data for hofn...\n",
      "Requesting data for merauke...\n",
      "Requesting data for port blair...\n",
      "Requesting data for artvin...\n",
      "Requesting data for chisec...\n",
      "Requesting data for bubaque...\n",
      "Requesting data for abdanan...\n",
      "Requesting data for maneromango...\n",
      "Requesting data for vizinga...\n",
      "Requesting data for mizan teferi...\n",
      "Requesting data for togul...\n",
      "Requesting data for firminy...\n",
      "Requesting data for qingdao...\n",
      "Requesting data for ust-koksa...\n",
      "Requesting data for tete...\n",
      "Requesting data for pasni...\n",
      "Requesting data for pangnirtung...\n",
      "Requesting data for jatai...\n",
      "Requesting data for lasa...\n",
      "Requesting data for luis correia...\n",
      "Requesting data for matagami...\n",
      "Requesting data for lufilufi...\n",
      "Requesting data for khani...\n",
      "Requesting data for lavumisa...\n",
      "Requesting data for teacapan...\n",
      "Requesting data for tezu...\n",
      "Requesting data for shirone...\n",
      "Requesting data for sitio novo do tocantins...\n",
      "Requesting data for prince rupert...\n",
      "Requesting data for mubi...\n",
      "Requesting data for kalaiya...\n",
      "Requesting data for novobirilyussy...\n",
      "Requesting data for kudahuvadhoo...\n",
      "Requesting data for sur...\n",
      "Requesting data for yumen...\n",
      "Requesting data for margate...\n",
      "Requesting data for gizo...\n",
      "Requesting data for komsomolskiy...\n",
      "Requesting data for gondanglegi...\n",
      "Requesting data for praxedis guerrero...\n",
      "Requesting data for karaul...\n",
      "karaul is missing field(s) ... skipping\n",
      "Requesting data for vuktyl...\n",
      "Requesting data for ust-kulom...\n",
      "Requesting data for parabel...\n",
      "Requesting data for mercedes...\n",
      "Requesting data for alugan...\n",
      "Requesting data for zinder...\n",
      "Requesting data for lorain...\n",
      "Requesting data for imaculada...\n",
      "Requesting data for manta...\n",
      "Requesting data for port hedland...\n",
      "Requesting data for muti...\n",
      "Requesting data for arlit...\n",
      "Requesting data for laguna...\n",
      "Requesting data for lovozero...\n",
      "Requesting data for kizilskoye...\n",
      "Requesting data for namatanai...\n",
      "Requesting data for bengkulu...\n",
      "Requesting data for shkotovo-26...\n",
      "shkotovo-26 is missing field(s) ... skipping\n",
      "Requesting data for voyvozh...\n",
      "Requesting data for tabou...\n",
      "Requesting data for wilmington island...\n",
      "Requesting data for innisfail...\n",
      "Requesting data for saldanha...\n",
      "Requesting data for zheleznodorozhnyy...\n",
      "Requesting data for raozan...\n",
      "raozan is missing field(s) ... skipping\n",
      "Requesting data for nuuk...\n",
      "Requesting data for guarapari...\n",
      "Requesting data for souillac...\n",
      "Requesting data for makakilo city...\n",
      "Requesting data for xingtai...\n",
      "Requesting data for houston...\n",
      "Requesting data for camacha...\n",
      "Requesting data for fort morgan...\n",
      "Requesting data for polunochnoye...\n",
      "Requesting data for marawi...\n",
      "Requesting data for sakakah...\n",
      "Requesting data for mineiros...\n"
     ]
    },
    {
     "name": "stdout",
     "output_type": "stream",
     "text": [
      "Requesting data for barcelona...\n",
      "Requesting data for san cristobal...\n",
      "Requesting data for de-kastri...\n",
      "Requesting data for kishtwar...\n",
      "Requesting data for dakar...\n",
      "Requesting data for jalu...\n",
      "Requesting data for tumannyy...\n",
      "tumannyy is missing field(s) ... skipping\n",
      "Requesting data for puri...\n",
      "Requesting data for tres passos...\n",
      "Requesting data for iqaluit...\n",
      "Requesting data for poum...\n",
      "Requesting data for samusu...\n",
      "samusu is missing field(s) ... skipping\n",
      "Requesting data for vardo...\n",
      "Requesting data for yirol...\n",
      "yirol is missing field(s) ... skipping\n",
      "Requesting data for ocean city...\n",
      "Requesting data for eseka...\n",
      "Requesting data for asau...\n",
      "Requesting data for dourbali...\n",
      "Requesting data for safwah...\n",
      "safwah is missing field(s) ... skipping\n",
      "Requesting data for vaitape...\n",
      "Requesting data for elko...\n",
      "Requesting data for andselv...\n",
      "andselv is missing field(s) ... skipping\n",
      "Requesting data for ambilobe...\n",
      "Requesting data for flin flon...\n",
      "Requesting data for black river...\n",
      "Requesting data for karasuk...\n",
      "Requesting data for auki...\n",
      "Requesting data for saint augustine...\n",
      "Requesting data for hualmay...\n",
      "Requesting data for mayor pablo lagerenza...\n",
      "Requesting data for qujing...\n",
      "Requesting data for koraput...\n",
      "Requesting data for sasni...\n",
      "Requesting data for machinga...\n",
      "Requesting data for ewa beach...\n",
      "Requesting data for nurota...\n",
      "Requesting data for mincivan...\n",
      "Requesting data for chagda...\n",
      "chagda is missing field(s) ... skipping\n",
      "Requesting data for manggar...\n",
      "Requesting data for dunedin...\n",
      "Requesting data for babu...\n",
      "Requesting data for puerto cabello...\n",
      "Requesting data for ojinaga...\n",
      "Requesting data for baruun-urt...\n",
      "Requesting data for paraopeba...\n",
      "Requesting data for ahuimanu...\n",
      "Requesting data for itarema...\n",
      "Requesting data for belaya gora...\n",
      "Requesting data for malakal...\n",
      "Requesting data for paamiut...\n",
      "Requesting data for bundaberg...\n",
      "Requesting data for kambove...\n",
      "Requesting data for nicoya...\n",
      "Requesting data for grand river south east...\n",
      "grand river south east is missing field(s) ... skipping\n",
      "Requesting data for nanortalik...\n",
      "Requesting data for campamento...\n",
      "Requesting data for kaharlyk...\n",
      "Requesting data for grand-santi...\n",
      "Requesting data for big spring...\n",
      "Requesting data for waingapu...\n",
      "Requesting data for sangar...\n",
      "Requesting data for samalaeulu...\n",
      "samalaeulu is missing field(s) ... skipping\n",
      "Requesting data for tessalit...\n",
      "Requesting data for kamenka...\n",
      "Requesting data for lavrentiya...\n",
      "Requesting data for coquimbo...\n",
      "Requesting data for maniitsoq...\n",
      "Requesting data for victoria...\n",
      "Requesting data for sorland...\n",
      "Requesting data for pingliang...\n",
      "Requesting data for lata...\n",
      "Requesting data for serro...\n",
      "Requesting data for manzhouli...\n",
      "Requesting data for nabire...\n",
      "Requesting data for indian head...\n",
      "Requesting data for cabo rojo...\n",
      "Requesting data for buraydah...\n",
      "Requesting data for college place...\n",
      "Requesting data for ust-nera...\n",
      "Requesting data for heidelberg...\n",
      "Requesting data for ardahan...\n",
      "Requesting data for beihai...\n",
      "Requesting data for guerrero negro...\n",
      "Requesting data for erenhot...\n",
      "Requesting data for kautokeino...\n",
      "Requesting data for kampot...\n",
      "Requesting data for scottsburgh...\n",
      "scottsburgh is missing field(s) ... skipping\n",
      "Requesting data for ukiah...\n",
      "Requesting data for promyshlennyy...\n",
      "Requesting data for sijunjung...\n",
      "Requesting data for hattiesburg...\n",
      "Requesting data for saint-denis...\n",
      "Requesting data for banmo...\n",
      "banmo is missing field(s) ... skipping\n",
      "Requesting data for grand-lahou...\n",
      "Requesting data for lolua...\n",
      "lolua is missing field(s) ... skipping\n",
      "Requesting data for grand gaube...\n",
      "Requesting data for zhangye...\n",
      "Requesting data for abu kamal...\n",
      "Requesting data for freeport...\n",
      "Requesting data for kjollefjord...\n",
      "Requesting data for san policarpo...\n",
      "Requesting data for hamilton...\n",
      "Requesting data for kumluca...\n",
      "Requesting data for ayagoz...\n",
      "Requesting data for karratha...\n",
      "Requesting data for quelimane...\n",
      "Requesting data for jasper...\n",
      "Requesting data for kladanj...\n",
      "Requesting data for jilib...\n",
      "Requesting data for presque isle...\n",
      "Requesting data for marinette...\n",
      "Requesting data for fevralsk...\n",
      "fevralsk is missing field(s) ... skipping\n",
      "Requesting data for port hawkesbury...\n",
      "Requesting data for daru...\n",
      "Requesting data for keti bandar...\n",
      "Requesting data for alofi...\n",
      "Requesting data for robertson...\n",
      "Requesting data for tricase...\n",
      "Requesting data for presidente dutra...\n",
      "Requesting data for mahanje...\n",
      "Requesting data for honningsvag...\n",
      "Requesting data for toftir...\n",
      "toftir is missing field(s) ... skipping\n",
      "Requesting data for steinbach...\n",
      "Requesting data for edson...\n",
      "Requesting data for shah alam...\n",
      "Requesting data for pochinki...\n",
      "Requesting data for san gabriel...\n",
      "Requesting data for taonan...\n",
      "Requesting data for mnogovershinnyy...\n",
      "Requesting data for el chol...\n",
      "Requesting data for gevrai...\n",
      "Requesting data for katangli...\n",
      "Requesting data for bull savanna...\n",
      "Requesting data for benxi...\n",
      "Requesting data for zima...\n",
      "Requesting data for kamaishi...\n",
      "Requesting data for fort nelson...\n",
      "Requesting data for the valley...\n",
      "Requesting data for great yarmouth...\n",
      "Requesting data for hasaki...\n",
      "Requesting data for afgoye...\n",
      "afgoye is missing field(s) ... skipping\n",
      "Requesting data for kimparana...\n",
      "Requesting data for taksimo...\n",
      "Requesting data for barkot...\n",
      "Requesting data for ornskoldsvik...\n",
      "Requesting data for reconquista...\n",
      "Requesting data for dutlwe...\n",
      "Requesting data for prieska...\n",
      "Requesting data for vikhorevka...\n",
      "Requesting data for la esperanza...\n",
      "Requesting data for the pas...\n",
      "Requesting data for halifax...\n",
      "Requesting data for orange...\n",
      "Requesting data for cumaribo...\n",
      "cumaribo is missing field(s) ... skipping\n",
      "Requesting data for santa maria...\n",
      "Requesting data for jinchang...\n",
      "Requesting data for qiongshan...\n"
     ]
    }
   ],
   "source": [
    "#Grab base url\n",
    "base_url = 'https://api.openweathermap.org/data/2.5/weather?q='\n",
    "\n",
    "for index, row in cities_df.iterrows():\n",
    "    \n",
    "    city_search = row['city']\n",
    "    \n",
    "    #Create full url with imperial units\n",
    "    full_url = f\"{base_url}{city_search}&appid={api_key}&units=imperial\"\n",
    "    \n",
    "    #Make the api request\n",
    "    weather = requests.get(full_url).json()\n",
    "\n",
    "    #Append values requested to the data frame\n",
    "    try:\n",
    "        print(f\"Requesting data for {city_search}...\")\n",
    "        cities_df.loc[index, 'lat'] = weather['coord']['lat']\n",
    "        cities_df.loc[index, 'lng'] = weather['coord']['lon']\n",
    "        cities_df.loc[index, 'humidity'] = weather['main']['humidity']\n",
    "        cities_df.loc[index, 'temp'] = weather['main']['temp']\n",
    "        cities_df.loc[index, 'max_temp'] = weather['main']['temp_max']\n",
    "        cities_df.loc[index, 'clouds'] = weather['clouds']['all']\n",
    "        cities_df.loc[index, 'wind'] = weather['wind']['speed']\n",
    "    #If missing values, indicate with print statement\n",
    "    except(KeyError, IndexError):\n",
    "        print(f\"{city_search} is missing field(s) ... skipping\")\n"
   ]
  },
  {
   "cell_type": "markdown",
   "metadata": {},
   "source": [
    "### Convert Raw Data to DataFrame\n",
    "* Export the city data into a .csv.\n",
    "* Display the DataFrame"
   ]
  },
  {
   "cell_type": "code",
   "execution_count": 4,
   "metadata": {},
   "outputs": [
    {
     "data": {
      "text/html": [
       "<div>\n",
       "<style scoped>\n",
       "    .dataframe tbody tr th:only-of-type {\n",
       "        vertical-align: middle;\n",
       "    }\n",
       "\n",
       "    .dataframe tbody tr th {\n",
       "        vertical-align: top;\n",
       "    }\n",
       "\n",
       "    .dataframe thead th {\n",
       "        text-align: right;\n",
       "    }\n",
       "</style>\n",
       "<table border=\"1\" class=\"dataframe\">\n",
       "  <thead>\n",
       "    <tr style=\"text-align: right;\">\n",
       "      <th></th>\n",
       "      <th>city</th>\n",
       "      <th>lat</th>\n",
       "      <th>lng</th>\n",
       "      <th>humidity</th>\n",
       "      <th>temp</th>\n",
       "      <th>max_temp</th>\n",
       "      <th>clouds</th>\n",
       "      <th>wind</th>\n",
       "    </tr>\n",
       "  </thead>\n",
       "  <tbody>\n",
       "    <tr>\n",
       "      <th>0</th>\n",
       "      <td>shingu</td>\n",
       "      <td>33.7333</td>\n",
       "      <td>135.983</td>\n",
       "      <td>82</td>\n",
       "      <td>50.72</td>\n",
       "      <td>50.72</td>\n",
       "      <td>100</td>\n",
       "      <td>11.45</td>\n",
       "    </tr>\n",
       "    <tr>\n",
       "      <th>1</th>\n",
       "      <td>punta arenas</td>\n",
       "      <td>-53.15</td>\n",
       "      <td>-70.9167</td>\n",
       "      <td>67</td>\n",
       "      <td>55.2</td>\n",
       "      <td>55.4</td>\n",
       "      <td>75</td>\n",
       "      <td>23.02</td>\n",
       "    </tr>\n",
       "    <tr>\n",
       "      <th>2</th>\n",
       "      <td>yellowknife</td>\n",
       "      <td>62.456</td>\n",
       "      <td>-114.353</td>\n",
       "      <td>84</td>\n",
       "      <td>-3.28</td>\n",
       "      <td>-2</td>\n",
       "      <td>75</td>\n",
       "      <td>10.36</td>\n",
       "    </tr>\n",
       "    <tr>\n",
       "      <th>3</th>\n",
       "      <td>busselton</td>\n",
       "      <td>-33.65</td>\n",
       "      <td>115.333</td>\n",
       "      <td>78</td>\n",
       "      <td>62.08</td>\n",
       "      <td>64</td>\n",
       "      <td>0</td>\n",
       "      <td>3</td>\n",
       "    </tr>\n",
       "    <tr>\n",
       "      <th>4</th>\n",
       "      <td>masuguru</td>\n",
       "      <td>-11.3667</td>\n",
       "      <td>38.4167</td>\n",
       "      <td>93</td>\n",
       "      <td>72.82</td>\n",
       "      <td>72.82</td>\n",
       "      <td>98</td>\n",
       "      <td>3.27</td>\n",
       "    </tr>\n",
       "    <tr>\n",
       "      <th>...</th>\n",
       "      <td>...</td>\n",
       "      <td>...</td>\n",
       "      <td>...</td>\n",
       "      <td>...</td>\n",
       "      <td>...</td>\n",
       "      <td>...</td>\n",
       "      <td>...</td>\n",
       "      <td>...</td>\n",
       "    </tr>\n",
       "    <tr>\n",
       "      <th>612</th>\n",
       "      <td>orange</td>\n",
       "      <td>33.7</td>\n",
       "      <td>-117.767</td>\n",
       "      <td>45</td>\n",
       "      <td>65.93</td>\n",
       "      <td>69.01</td>\n",
       "      <td>75</td>\n",
       "      <td>1.97</td>\n",
       "    </tr>\n",
       "    <tr>\n",
       "      <th>613</th>\n",
       "      <td>cumaribo</td>\n",
       "      <td></td>\n",
       "      <td></td>\n",
       "      <td></td>\n",
       "      <td></td>\n",
       "      <td></td>\n",
       "      <td></td>\n",
       "      <td></td>\n",
       "    </tr>\n",
       "    <tr>\n",
       "      <th>614</th>\n",
       "      <td>santa maria</td>\n",
       "      <td>-29.6842</td>\n",
       "      <td>-53.8069</td>\n",
       "      <td>66</td>\n",
       "      <td>86</td>\n",
       "      <td>86</td>\n",
       "      <td>40</td>\n",
       "      <td>4.61</td>\n",
       "    </tr>\n",
       "    <tr>\n",
       "      <th>615</th>\n",
       "      <td>jinchang</td>\n",
       "      <td>38.4953</td>\n",
       "      <td>102.174</td>\n",
       "      <td>64</td>\n",
       "      <td>20.98</td>\n",
       "      <td>20.98</td>\n",
       "      <td>0</td>\n",
       "      <td>1.86</td>\n",
       "    </tr>\n",
       "    <tr>\n",
       "      <th>616</th>\n",
       "      <td>qiongshan</td>\n",
       "      <td>20.0058</td>\n",
       "      <td>110.354</td>\n",
       "      <td>100</td>\n",
       "      <td>60.8</td>\n",
       "      <td>60.8</td>\n",
       "      <td>20</td>\n",
       "      <td>2.24</td>\n",
       "    </tr>\n",
       "  </tbody>\n",
       "</table>\n",
       "<p>617 rows × 8 columns</p>\n",
       "</div>"
      ],
      "text/plain": [
       "             city      lat      lng humidity   temp max_temp clouds   wind\n",
       "0          shingu  33.7333  135.983       82  50.72    50.72    100  11.45\n",
       "1    punta arenas   -53.15 -70.9167       67   55.2     55.4     75  23.02\n",
       "2     yellowknife   62.456 -114.353       84  -3.28       -2     75  10.36\n",
       "3       busselton   -33.65  115.333       78  62.08       64      0      3\n",
       "4        masuguru -11.3667  38.4167       93  72.82    72.82     98   3.27\n",
       "..            ...      ...      ...      ...    ...      ...    ...    ...\n",
       "612        orange     33.7 -117.767       45  65.93    69.01     75   1.97\n",
       "613      cumaribo                                                         \n",
       "614   santa maria -29.6842 -53.8069       66     86       86     40   4.61\n",
       "615      jinchang  38.4953  102.174       64  20.98    20.98      0   1.86\n",
       "616     qiongshan  20.0058  110.354      100   60.8     60.8     20   2.24\n",
       "\n",
       "[617 rows x 8 columns]"
      ]
     },
     "execution_count": 4,
     "metadata": {},
     "output_type": "execute_result"
    }
   ],
   "source": [
    "cities_df"
   ]
  },
  {
   "cell_type": "code",
   "execution_count": 5,
   "metadata": {},
   "outputs": [],
   "source": [
    "#Drop row if there is an empty string in any cell\n",
    "for index, row in cities_df.iterrows():\n",
    "    if (row['lat'] == '') | (row['lng'] == '') | (row['humidity'] == '') | (row['temp'] == '') | (row['clouds'] == '') | (row['wind'] == ''):\n",
    "        cities_df.drop(index,inplace=True)"
   ]
  },
  {
   "cell_type": "markdown",
   "metadata": {},
   "source": [
    "## Inspect the data and remove the cities where the humidity > 100%.\n",
    "----\n",
    "Skip this step if there are no cities that have humidity > 100%. "
   ]
  },
  {
   "cell_type": "code",
   "execution_count": 59,
   "metadata": {},
   "outputs": [],
   "source": [
    "#Clear out all cities where humidity is > 100%\n",
    "clean_cities_df = cities_df.loc[cities_df['humidity'] < 100, :]\n",
    "\n",
    "clean_cities_df\n",
    "\n",
    "clean_cities_df.to_csv('city_data.csv')"
   ]
  },
  {
   "cell_type": "markdown",
   "metadata": {},
   "source": [
    "## Plotting the Data\n",
    "* Use proper labeling of the plots using plot titles (including date of analysis) and axes labels.\n",
    "* Save the plotted figures as .pngs."
   ]
  },
  {
   "cell_type": "markdown",
   "metadata": {},
   "source": [
    "## Latitude vs. Temperature Plot"
   ]
  },
  {
   "cell_type": "code",
   "execution_count": 7,
   "metadata": {
    "scrolled": true
   },
   "outputs": [
    {
     "data": {
      "text/plain": [
       "Text(0, 0.5, 'Latitude')"
      ]
     },
     "execution_count": 7,
     "metadata": {},
     "output_type": "execute_result"
    },
    {
     "data": {
      "image/png": "[encoded data removed]",
      "text/plain": [
       "<Figure size 432x288 with 1 Axes>"
      ]
     },
     "metadata": {
      "needs_background": "light"
     },
     "output_type": "display_data"
    }
   ],
   "source": [
    "#Plot\n",
    "plt.scatter(clean_cities_df['temp'], clean_cities_df['lat'])\n",
    "\n",
    "#Labels, etc\n",
    "plt.title('Latitude vs. Temperature')\n",
    "plt.xlabel('Temperature (F)')\n",
    "plt.ylabel('Latitude')"
   ]
  },
  {
   "cell_type": "markdown",
   "metadata": {},
   "source": [
    "## Latitude vs. Humidity Plot"
   ]
  },
  {
   "cell_type": "code",
   "execution_count": 8,
   "metadata": {},
   "outputs": [
    {
     "data": {
      "text/plain": [
       "Text(0, 0.5, 'Latitude')"
      ]
     },
     "execution_count": 8,
     "metadata": {},
     "output_type": "execute_result"
    },
    {
     "data": {
      "image/png": "[encoded data removed]",
      "text/plain": [
       "<Figure size 432x288 with 1 Axes>"
      ]
     },
     "metadata": {
      "needs_background": "light"
     },
     "output_type": "display_data"
    }
   ],
   "source": [
    "#Plot\n",
    "plt.scatter(clean_cities_df['humidity'], clean_cities_df['lat'])\n",
    "\n",
    "#Labels, etc\n",
    "plt.title('Latitude vs. Humidity')\n",
    "plt.xlabel('Humidity (%)')\n",
    "plt.ylabel('Latitude')"
   ]
  },
  {
   "cell_type": "markdown",
   "metadata": {},
   "source": [
    "## Latitude vs. Cloudiness Plot"
   ]
  },
  {
   "cell_type": "code",
   "execution_count": 9,
   "metadata": {},
   "outputs": [
    {
     "data": {
      "text/plain": [
       "Text(0, 0.5, 'Latitude')"
      ]
     },
     "execution_count": 9,
     "metadata": {},
     "output_type": "execute_result"
    },
    {
     "data": {
      "image/png": "[encoded data removed]",
      "text/plain": [
       "<Figure size 432x288 with 1 Axes>"
      ]
     },
     "metadata": {
      "needs_background": "light"
     },
     "output_type": "display_data"
    }
   ],
   "source": [
    "#Plot\n",
    "plt.scatter(clean_cities_df['clouds'], clean_cities_df['lat'])\n",
    "\n",
    "#Labels, etc\n",
    "plt.title('Latitude vs. Cloudiness')\n",
    "plt.xlabel('% Cloud Cover')\n",
    "plt.ylabel('Latitude')"
   ]
  },
  {
   "cell_type": "markdown",
   "metadata": {},
   "source": [
    "## Latitude vs. Wind Speed Plot"
   ]
  },
  {
   "cell_type": "code",
   "execution_count": 10,
   "metadata": {},
   "outputs": [
    {
     "data": {
      "text/plain": [
       "Text(0, 0.5, 'Latitude')"
      ]
     },
     "execution_count": 10,
     "metadata": {},
     "output_type": "execute_result"
    },
    {
     "data": {
      "image/png": "[encoded data removed]",
      "text/plain": [
       "<Figure size 432x288 with 1 Axes>"
      ]
     },
     "metadata": {
      "needs_background": "light"
     },
     "output_type": "display_data"
    }
   ],
   "source": [
    "#Plot\n",
    "plt.scatter(clean_cities_df['wind'], clean_cities_df['lat'])\n",
    "\n",
    "#Labels, etc\n",
    "plt.title('Latitude vs. Wind Speed')\n",
    "plt.xlabel('Wind Spped (mph)')\n",
    "plt.ylabel('Latitude')"
   ]
  },
  {
   "cell_type": "markdown",
   "metadata": {},
   "source": [
    "## Linear Regression"
   ]
  },
  {
   "cell_type": "code",
   "execution_count": 11,
   "metadata": {},
   "outputs": [],
   "source": [
    "#Filter to northern latitudes only\n",
    "#Northern df also includes where lat = 0\n",
    "northern_lats = clean_cities_df.loc[clean_cities_df['lat'] >= 0, :]\n",
    "\n",
    "#Filter to southern latitudes only\n",
    "southern_lats = clean_cities_df.loc[clean_cities_df['lat'] < 0, :]"
   ]
  },
  {
   "cell_type": "markdown",
   "metadata": {},
   "source": [
    "####  Northern Hemisphere - Max Temp vs. Latitude Linear Regression"
   ]
  },
  {
   "cell_type": "code",
   "execution_count": 24,
   "metadata": {},
   "outputs": [
    {
     "data": {
      "text/plain": [
       "Text(35, 75, 'y = -0.5x + 58.1')"
      ]
     },
     "execution_count": 24,
     "metadata": {},
     "output_type": "execute_result"
    },
    {
     "data": {
      "image/png": "[encoded data removed]",
      "text/plain": [
       "<Figure size 432x288 with 1 Axes>"
      ]
     },
     "metadata": {
      "needs_background": "light"
     },
     "output_type": "display_data"
    }
   ],
   "source": [
    "#Calculations for finding the components of the regression line\n",
    "x_values = northern_lats['max_temp']\n",
    "y_values = northern_lats['lat']\n",
    "\n",
    "#Get values for the regression line for plotting\n",
    "(slope, intercept, rvalue, pvalue, stderr) = linregress(x_values.astype('float'), y_values.astype('float'))\n",
    "regress_values = x_values * slope + intercept\n",
    "\n",
    "#Get equation for the linear regression\n",
    "line_eq = \"y = \" + str(round(slope,2)) + \"x + \" + str(round(intercept,2))\n",
    "\n",
    "#Plot scatter and regression line over the top\n",
    "plt.scatter(x_values,y_values)\n",
    "plt.plot(x_values,regress_values,\"r-\")\n",
    "\n",
    "#Labels, etc\n",
    "plt.title('Latitude vs. Max Temp (F) - N. Hemisphere Only')\n",
    "plt.xlabel('Max Temperature (F)')\n",
    "plt.ylabel('Latitude')\n",
    "\n",
    "#Put equation on the plot\n",
    "plt.annotate(line_eq,(35, 75),fontsize=15,color=\"red\")"
   ]
  },
  {
   "cell_type": "markdown",
   "metadata": {},
   "source": [
    "####  Southern Hemisphere - Max Temp vs. Latitude Linear Regression"
   ]
  },
  {
   "cell_type": "code",
   "execution_count": 31,
   "metadata": {},
   "outputs": [
    {
     "data": {
      "text/plain": [
       "Text(73, -53, 'y = 0.89x + -87.54')"
      ]
     },
     "execution_count": 31,
     "metadata": {},
     "output_type": "execute_result"
    },
    {
     "data": {
      "image/png": "[encoded data removed]",
      "text/plain": [
       "<Figure size 432x288 with 1 Axes>"
      ]
     },
     "metadata": {
      "needs_background": "light"
     },
     "output_type": "display_data"
    }
   ],
   "source": [
    "#Calculations for finding the components of the regression line\n",
    "x_values = southern_lats['max_temp']\n",
    "y_values = southern_lats['lat']\n",
    "\n",
    "#Get values for the regression line for plotting\n",
    "(slope, intercept, rvalue, pvalue, stderr) = linregress(x_values.astype('float'), y_values.astype('float'))\n",
    "regress_values = x_values * slope + intercept\n",
    "\n",
    "#Get equation for the linear regression\n",
    "line_eq = \"y = \" + str(round(slope,2)) + \"x + \" + str(round(intercept,2))\n",
    "\n",
    "#Plot scatter and regression line over the top\n",
    "plt.scatter(x_values,y_values)\n",
    "plt.plot(x_values,regress_values,\"r-\")\n",
    "\n",
    "#Labels, etc\n",
    "plt.title('Latitude vs. Max Temp (F) - S. Hemisphere Only')\n",
    "plt.xlabel('Max Temperature (F)')\n",
    "plt.ylabel('Latitude')\n",
    "\n",
    "#Put equation on the plot\n",
    "plt.annotate(line_eq,(73, -53),fontsize=15,color=\"red\")"
   ]
  },
  {
   "cell_type": "markdown",
   "metadata": {},
   "source": [
    "####  Northern Hemisphere - Humidity (%) vs. Latitude Linear Regression"
   ]
  },
  {
   "cell_type": "code",
   "execution_count": 36,
   "metadata": {},
   "outputs": [
    {
     "data": {
      "text/plain": [
       "Text(15, 60, 'y = 0.35x + 13.9')"
      ]
     },
     "execution_count": 36,
     "metadata": {},
     "output_type": "execute_result"
    },
    {
     "data": {
      "image/png": "[encoded data removed]",
      "text/plain": [
       "<Figure size 432x288 with 1 Axes>"
      ]
     },
     "metadata": {
      "needs_background": "light"
     },
     "output_type": "display_data"
    }
   ],
   "source": [
    "#Calculations for finding the components of the regression line\n",
    "x_values = northern_lats['humidity']\n",
    "y_values = northern_lats['lat']\n",
    "\n",
    "#Get values for the regression line for plotting\n",
    "(slope, intercept, rvalue, pvalue, stderr) = linregress(x_values.astype('float'), y_values.astype('float'))\n",
    "regress_values = x_values * slope + intercept\n",
    "\n",
    "#Get equation for the linear regression\n",
    "line_eq = \"y = \" + str(round(slope,2)) + \"x + \" + str(round(intercept,2))\n",
    "\n",
    "#Plot scatter and regression line over the top\n",
    "plt.scatter(x_values,y_values)\n",
    "plt.plot(x_values,regress_values,\"r-\")\n",
    "\n",
    "#Labels, etc\n",
    "plt.title('Latitude vs. Humidity (%) - N. Hemisphere Only')\n",
    "plt.xlabel('Humidity (%)')\n",
    "plt.ylabel('Latitude')\n",
    "\n",
    "#Put equation on the plot\n",
    "plt.annotate(line_eq,(15, 60),fontsize=15,color=\"red\")"
   ]
  },
  {
   "cell_type": "markdown",
   "metadata": {},
   "source": [
    "####  Southern Hemisphere - Humidity (%) vs. Latitude Linear Regression"
   ]
  },
  {
   "cell_type": "code",
   "execution_count": 38,
   "metadata": {},
   "outputs": [
    {
     "data": {
      "text/plain": [
       "Text(20, -53, 'y = 0.37x + -48.65')"
      ]
     },
     "execution_count": 38,
     "metadata": {},
     "output_type": "execute_result"
    },
    {
     "data": {
      "image/png": "[encoded data removed]",
      "text/plain": [
       "<Figure size 432x288 with 1 Axes>"
      ]
     },
     "metadata": {
      "needs_background": "light"
     },
     "output_type": "display_data"
    }
   ],
   "source": [
    "#Calculations for finding the components of the regression line\n",
    "x_values = southern_lats['humidity']\n",
    "y_values = southern_lats['lat']\n",
    "\n",
    "#Get values for the regression line for plotting\n",
    "(slope, intercept, rvalue, pvalue, stderr) = linregress(x_values.astype('float'), y_values.astype('float'))\n",
    "regress_values = x_values * slope + intercept\n",
    "\n",
    "#Get equation for the linear regression\n",
    "line_eq = \"y = \" + str(round(slope,2)) + \"x + \" + str(round(intercept,2))\n",
    "\n",
    "#Plot scatter and regression line over the top\n",
    "plt.scatter(x_values,y_values)\n",
    "plt.plot(x_values,regress_values,\"r-\")\n",
    "\n",
    "#Labels, etc\n",
    "plt.title('Latitude vs. Humidity (%) - S. Hemisphere Only')\n",
    "plt.xlabel('Humidity (%)')\n",
    "plt.ylabel('Latitude')\n",
    "\n",
    "#Put equation on the plot\n",
    "plt.annotate(line_eq,(20, -53),fontsize=15,color=\"red\")"
   ]
  },
  {
   "cell_type": "markdown",
   "metadata": {},
   "source": [
    "####  Northern Hemisphere - Cloudiness (%) vs. Latitude Linear Regression"
   ]
  },
  {
   "cell_type": "code",
   "execution_count": 44,
   "metadata": {},
   "outputs": [
    {
     "data": {
      "text/plain": [
       "Text(6, 75, 'y = 0.16x + 30.38')"
      ]
     },
     "execution_count": 44,
     "metadata": {},
     "output_type": "execute_result"
    },
    {
     "data": {
      "image/png": "[encoded data removed]",
      "text/plain": [
       "<Figure size 432x288 with 1 Axes>"
      ]
     },
     "metadata": {
      "needs_background": "light"
     },
     "output_type": "display_data"
    }
   ],
   "source": [
    "#Calculations for finding the components of the regression line\n",
    "x_values = northern_lats['clouds']\n",
    "y_values = northern_lats['lat']\n",
    "\n",
    "#Get values for the regression line for plotting\n",
    "(slope, intercept, rvalue, pvalue, stderr) = linregress(x_values.astype('float'), y_values.astype('float'))\n",
    "regress_values = x_values * slope + intercept\n",
    "\n",
    "#Get equation for the linear regression\n",
    "line_eq = \"y = \" + str(round(slope,2)) + \"x + \" + str(round(intercept,2))\n",
    "\n",
    "#Plot scatter and regression line over the top\n",
    "plt.scatter(x_values,y_values)\n",
    "plt.plot(x_values,regress_values,\"r-\")\n",
    "\n",
    "#Labels, etc\n",
    "plt.title('Latitude vs. Cloudiness (%) - N. Hemisphere Only')\n",
    "plt.xlabel('Cloudiness (%)')\n",
    "plt.ylabel('Latitude')\n",
    "\n",
    "#Put equation on the plot\n",
    "plt.annotate(line_eq,(6, 75),fontsize=15,color=\"red\")"
   ]
  },
  {
   "cell_type": "markdown",
   "metadata": {},
   "source": [
    "####  Southern Hemisphere - Cloudiness (%) vs. Latitude Linear Regression"
   ]
  },
  {
   "cell_type": "code",
   "execution_count": 50,
   "metadata": {},
   "outputs": [
    {
     "data": {
      "text/plain": [
       "Text(4, -53, 'y = 0.12x + -28.56')"
      ]
     },
     "execution_count": 50,
     "metadata": {},
     "output_type": "execute_result"
    },
    {
     "data": {
      "image/png": "[encoded data removed]",
      "text/plain": [
       "<Figure size 432x288 with 1 Axes>"
      ]
     },
     "metadata": {
      "needs_background": "light"
     },
     "output_type": "display_data"
    }
   ],
   "source": [
    "#Calculations for finding the components of the regression line\n",
    "x_values = southern_lats['clouds']\n",
    "y_values = southern_lats['lat']\n",
    "\n",
    "#Get values for the regression line for plotting\n",
    "(slope, intercept, rvalue, pvalue, stderr) = linregress(x_values.astype('float'), y_values.astype('float'))\n",
    "regress_values = x_values * slope + intercept\n",
    "\n",
    "#Get equation for the linear regression\n",
    "line_eq = \"y = \" + str(round(slope,2)) + \"x + \" + str(round(intercept,2))\n",
    "\n",
    "#Plot scatter and regression line over the top\n",
    "plt.scatter(x_values,y_values)\n",
    "plt.plot(x_values,regress_values,\"r-\")\n",
    "\n",
    "#Labels, etc\n",
    "plt.title('Latitude vs. Cloudiness (%) - S. Hemisphere Only')\n",
    "plt.xlabel('Cloudiness (%)')\n",
    "plt.ylabel('Latitude')\n",
    "\n",
    "#Put equation on the plot\n",
    "plt.annotate(line_eq,(4, -53),fontsize=15,color=\"red\")"
   ]
  },
  {
   "cell_type": "markdown",
   "metadata": {},
   "source": [
    "####  Northern Hemisphere - Wind Speed (mph) vs. Latitude Linear Regression"
   ]
  },
  {
   "cell_type": "code",
   "execution_count": 55,
   "metadata": {},
   "outputs": [
    {
     "data": {
      "text/plain": [
       "Text(14, 75, 'y = 0.14x + 37.98')"
      ]
     },
     "execution_count": 55,
     "metadata": {},
     "output_type": "execute_result"
    },
    {
     "data": {
      "image/png": "[encoded data removed]",
      "text/plain": [
       "<Figure size 432x288 with 1 Axes>"
      ]
     },
     "metadata": {
      "needs_background": "light"
     },
     "output_type": "display_data"
    }
   ],
   "source": [
    "#Calculations for finding the components of the regression line\n",
    "x_values = northern_lats['wind']\n",
    "y_values = northern_lats['lat']\n",
    "\n",
    "#Get values for the regression line for plotting\n",
    "(slope, intercept, rvalue, pvalue, stderr) = linregress(x_values.astype('float'), y_values.astype('float'))\n",
    "regress_values = x_values * slope + intercept\n",
    "\n",
    "#Get equation for the linear regression\n",
    "line_eq = \"y = \" + str(round(slope,2)) + \"x + \" + str(round(intercept,2))\n",
    "\n",
    "#Plot scatter and regression line over the top\n",
    "plt.scatter(x_values,y_values)\n",
    "plt.plot(x_values,regress_values,\"r-\")\n",
    "\n",
    "#Labels, etc\n",
    "plt.title('Latitude vs. Wind Speed (mph) - N. Hemisphere Only')\n",
    "plt.xlabel('Wind Speed (mph)')\n",
    "plt.ylabel('Latitude')\n",
    "\n",
    "#Put equation on the plot\n",
    "plt.annotate(line_eq,(14, 75),fontsize=15,color=\"red\")"
   ]
  },
  {
   "cell_type": "markdown",
   "metadata": {},
   "source": [
    "####  Southern Hemisphere - Wind Speed (mph) vs. Latitude Linear Regression"
   ]
  },
  {
   "cell_type": "code",
   "execution_count": 57,
   "metadata": {},
   "outputs": [
    {
     "data": {
      "text/plain": [
       "Text(21, -40, 'y = -0.47x + -16.9')"
      ]
     },
     "execution_count": 57,
     "metadata": {},
     "output_type": "execute_result"
    },
    {
     "data": {
      "image/png": "[encoded data removed]",
      "text/plain": [
       "<Figure size 432x288 with 1 Axes>"
      ]
     },
     "metadata": {
      "needs_background": "light"
     },
     "output_type": "display_data"
    }
   ],
   "source": [
    "#Calculations for finding the components of the regression line\n",
    "x_values = southern_lats['wind']\n",
    "y_values = southern_lats['lat']\n",
    "\n",
    "#Get values for the regression line for plotting\n",
    "(slope, intercept, rvalue, pvalue, stderr) = linregress(x_values.astype('float'), y_values.astype('float'))\n",
    "regress_values = x_values * slope + intercept\n",
    "\n",
    "#Get equation for the linear regression\n",
    "line_eq = \"y = \" + str(round(slope,2)) + \"x + \" + str(round(intercept,2))\n",
    "\n",
    "#Plot scatter and regression line over the top\n",
    "plt.scatter(x_values,y_values)\n",
    "plt.plot(x_values,regress_values,\"r-\")\n",
    "\n",
    "#Labels, etc\n",
    "plt.title('Latitude vs. Wind Speed (mph) - S. Hemisphere Only')\n",
    "plt.xlabel('Wind Speed (mph)')\n",
    "plt.ylabel('Latitude')\n",
    "\n",
    "#Put equation on the plot\n",
    "plt.annotate(line_eq,(21, -40),fontsize=15,color=\"red\")"
   ]
  },
  {
   "cell_type": "code",
   "execution_count": null,
   "metadata": {},
   "outputs": [],
   "source": []
  }
 ],
 "metadata": {
  "anaconda-cloud": {},
  "kernel_info": {
   "name": "python3"
  },
  "kernelspec": {
   "display_name": "Python 3",
   "language": "python",
   "name": "python3"
  },
  "language_info": {
   "codemirror_mode": {
    "name": "ipython",
    "version": 3
   },
   "file_extension": ".py",
   "mimetype": "text/x-python",
   "name": "python",
   "nbconvert_exporter": "python",
   "pygments_lexer": "ipython3",
   "version": "3.6.10"
  },
  "latex_envs": {
   "LaTeX_envs_menu_present": true,
   "autoclose": false,
   "autocomplete": true,
   "bibliofile": "biblio.bib",
   "cite_by": "apalike",
   "current_citInitial": 1,
   "eqLabelWithNumbers": true,
   "eqNumInitial": 1,
   "hotkeys": {
    "equation": "Ctrl-E",
    "itemize": "Ctrl-I"
   },
   "labels_anchors": false,
   "latex_user_defs": false,
   "report_style_numbering": false,
   "user_envs_cfg": false
  },
  "nteract": {
   "version": "0.12.3"
  }
 },
 "nbformat": 4,
 "nbformat_minor": 2
}
