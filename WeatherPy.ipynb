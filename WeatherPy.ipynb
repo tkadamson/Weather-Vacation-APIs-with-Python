{
 "cells": [
  {
   "cell_type": "markdown",
   "metadata": {},
   "source": [
    "# WeatherPy\n",
    "----\n",
    "\n",
    "#### Note\n",
    "* Instructions have been included for each segment. You do not have to follow them exactly, but they are included to help you think through the steps."
   ]
  },
  {
   "cell_type": "code",
   "execution_count": 2,
   "metadata": {
    "scrolled": true
   },
   "outputs": [],
   "source": [
    "# Dependencies and Setup\n",
    "import matplotlib.pyplot as plt\n",
    "import pandas as pd\n",
    "import numpy as np\n",
    "import requests\n",
    "import time\n",
    "from scipy.stats import linregress\n",
    "import json\n",
    "\n",
    "# Import API key\n",
    "from config import api_key\n",
    "\n",
    "# Incorporated citipy to determine city based on latitude and longitude\n",
    "from citipy import citipy\n",
    "\n",
    "# Range of latitudes and longitudes\n",
    "lat_range = (-90, 90)\n",
    "lng_range = (-180, 180)"
   ]
  },
  {
   "cell_type": "markdown",
   "metadata": {},
   "source": [
    "## Generate Cities List"
   ]
  },
  {
   "cell_type": "code",
   "execution_count": 3,
   "metadata": {},
   "outputs": [],
   "source": [
    "# List for holding lat_lngs and cities\n",
    "lat_lngs = []\n",
    "cities = []\n",
    "\n",
    "# Create a set of random lat and lng combinations\n",
    "lats = np.random.uniform(lat_range[0], lat_range[1], size=1500)\n",
    "lngs = np.random.uniform(lng_range[0], lng_range[1], size=1500)\n",
    "lat_lngs = zip(lats, lngs)\n",
    "\n",
    "# Identify nearest city for each lat, lng combination\n",
    "for lat_lng in lat_lngs:\n",
    "    city = citipy.nearest_city(lat_lng[0], lat_lng[1]).city_name\n",
    "    \n",
    "    # If the city is unique, then add it to a our cities list\n",
    "    if city not in cities:\n",
    "        cities.append(city)\n",
    "\n",
    "# Place those cities into a dataframe\n",
    "cities_df = pd.DataFrame({\"city\": cities})\n",
    "\n",
    "#Create empty columns for the data we want to retrieve from the API\n",
    "cities_df['country'] = ''\n",
    "cities_df['lat'] = ''\n",
    "cities_df['lng'] = ''\n",
    "cities_df['humidity'] = ''\n",
    "cities_df['temp'] = ''\n",
    "cities_df['max_temp'] = ''\n",
    "cities_df['clouds'] = ''\n",
    "cities_df['wind'] = ''\n"
   ]
  },
  {
   "cell_type": "markdown",
   "metadata": {},
   "source": [
    "### Perform API Calls\n",
    "* Perform a weather check on each city using a series of successive API calls.\n",
    "* Include a print log of each city as it'sbeing processed (with the city number and city name).\n"
   ]
  },
  {
   "cell_type": "code",
   "execution_count": 4,
   "metadata": {
    "scrolled": true
   },
   "outputs": [
    {
     "name": "stdout",
     "output_type": "stream",
     "text": [
      "Requesting data for georgetown...\n",
      "Requesting data for yanan...\n",
      "yanan is missing field(s) ... skipping\n",
      "Requesting data for cape town...\n",
      "Requesting data for kapaa...\n",
      "Requesting data for nelson bay...\n",
      "Requesting data for east london...\n",
      "Requesting data for hermanus...\n",
      "Requesting data for kalmunai...\n",
      "Requesting data for vao...\n",
      "Requesting data for adilabad...\n",
      "Requesting data for ilmajoki...\n",
      "Requesting data for rikitea...\n",
      "Requesting data for amparai...\n",
      "amparai is missing field(s) ... skipping\n",
      "Requesting data for vaitupu...\n",
      "vaitupu is missing field(s) ... skipping\n",
      "Requesting data for punta arenas...\n",
      "Requesting data for belushya guba...\n",
      "belushya guba is missing field(s) ... skipping\n",
      "Requesting data for mount gambier...\n",
      "Requesting data for sungaipenuh...\n",
      "Requesting data for nuevo progreso...\n",
      "Requesting data for ancud...\n",
      "Requesting data for ushuaia...\n",
      "Requesting data for derzhavinsk...\n",
      "Requesting data for cabo san lucas...\n",
      "Requesting data for busselton...\n",
      "Requesting data for tuktoyaktuk...\n",
      "Requesting data for codrington...\n",
      "Requesting data for puerto ayora...\n",
      "Requesting data for emerald...\n",
      "Requesting data for nanortalik...\n",
      "Requesting data for upernavik...\n",
      "Requesting data for zinder...\n",
      "Requesting data for touros...\n",
      "Requesting data for roald...\n",
      "Requesting data for qaanaaq...\n",
      "Requesting data for avera...\n",
      "Requesting data for atuona...\n",
      "Requesting data for pirovskoye...\n",
      "Requesting data for dongsheng...\n",
      "Requesting data for pisco...\n",
      "Requesting data for mataura...\n",
      "Requesting data for sabang...\n",
      "Requesting data for hobart...\n",
      "Requesting data for kodiak...\n",
      "Requesting data for norman wells...\n",
      "Requesting data for sortland...\n",
      "Requesting data for joensuu...\n",
      "Requesting data for amderma...\n",
      "amderma is missing field(s) ... skipping\n",
      "Requesting data for ribeira grande...\n",
      "Requesting data for khatanga...\n",
      "Requesting data for saint george...\n",
      "Requesting data for tizimin...\n",
      "Requesting data for port elizabeth...\n",
      "Requesting data for kaitangata...\n",
      "Requesting data for yulara...\n",
      "Requesting data for mahon...\n",
      "Requesting data for taolanaro...\n",
      "taolanaro is missing field(s) ... skipping\n",
      "Requesting data for meulaboh...\n",
      "Requesting data for mys shmidta...\n",
      "mys shmidta is missing field(s) ... skipping\n",
      "Requesting data for jamestown...\n",
      "Requesting data for teeli...\n",
      "Requesting data for santona...\n",
      "Requesting data for saint-philippe...\n",
      "Requesting data for tasiilaq...\n",
      "Requesting data for esperance...\n",
      "Requesting data for kulhudhuffushi...\n",
      "Requesting data for machakos...\n",
      "Requesting data for bethel...\n",
      "Requesting data for hilo...\n",
      "Requesting data for saskylakh...\n",
      "Requesting data for grindavik...\n",
      "Requesting data for vaini...\n",
      "Requesting data for santiago del estero...\n",
      "Requesting data for fortuna...\n",
      "Requesting data for solnechnyy...\n",
      "Requesting data for skjervoy...\n",
      "Requesting data for namatanai...\n",
      "Requesting data for illoqqortoormiut...\n",
      "illoqqortoormiut is missing field(s) ... skipping\n",
      "Requesting data for tsihombe...\n",
      "tsihombe is missing field(s) ... skipping\n",
      "Requesting data for carutapera...\n",
      "Requesting data for nizhneyansk...\n",
      "nizhneyansk is missing field(s) ... skipping\n",
      "Requesting data for bambous virieux...\n",
      "Requesting data for lavrentiya...\n",
      "Requesting data for huarmey...\n",
      "Requesting data for petropavlovsk-kamchatskiy...\n",
      "Requesting data for makakilo city...\n",
      "Requesting data for avarua...\n",
      "Requesting data for butaritari...\n",
      "Requesting data for xining...\n",
      "Requesting data for el alto...\n",
      "Requesting data for sesheke...\n",
      "Requesting data for capaccio...\n",
      "Requesting data for narsaq...\n",
      "Requesting data for lolua...\n",
      "lolua is missing field(s) ... skipping\n",
      "Requesting data for yellowknife...\n",
      "Requesting data for yenangyaung...\n",
      "Requesting data for half moon bay...\n",
      "Requesting data for otradnoye...\n",
      "Requesting data for saint-augustin...\n",
      "Requesting data for kahului...\n",
      "Requesting data for port alfred...\n",
      "Requesting data for utiroa...\n",
      "utiroa is missing field(s) ... skipping\n",
      "Requesting data for boueni...\n",
      "Requesting data for bathsheba...\n",
      "Requesting data for kenai...\n",
      "Requesting data for puerto montt...\n",
      "Requesting data for san rafael...\n",
      "Requesting data for chicama...\n",
      "Requesting data for sisimiut...\n",
      "Requesting data for iqaluit...\n",
      "Requesting data for arraial do cabo...\n",
      "Requesting data for albany...\n",
      "Requesting data for kruisfontein...\n",
      "Requesting data for jasper...\n",
      "Requesting data for herat...\n",
      "Requesting data for aksu...\n",
      "Requesting data for rio gallegos...\n",
      "Requesting data for tabiauea...\n",
      "tabiauea is missing field(s) ... skipping\n",
      "Requesting data for lorengau...\n",
      "Requesting data for loviisa...\n",
      "Requesting data for kristiansund...\n",
      "Requesting data for bluff...\n",
      "Requesting data for banjar...\n",
      "Requesting data for pacifica...\n",
      "Requesting data for krasne...\n",
      "Requesting data for barentsburg...\n",
      "barentsburg is missing field(s) ... skipping\n",
      "Requesting data for beaufort...\n",
      "Requesting data for trincomalee...\n",
      "Requesting data for attawapiskat...\n",
      "attawapiskat is missing field(s) ... skipping\n",
      "Requesting data for uni...\n",
      "Requesting data for la rioja...\n",
      "Requesting data for mezhevoy...\n",
      "Requesting data for umm lajj...\n",
      "Requesting data for komsomolskiy...\n",
      "Requesting data for salisbury...\n",
      "Requesting data for kenora...\n",
      "Requesting data for sur...\n",
      "Requesting data for college...\n",
      "Requesting data for buala...\n",
      "Requesting data for ponta do sol...\n",
      "Requesting data for coihaique...\n",
      "Requesting data for lompoc...\n",
      "Requesting data for nouadhibou...\n",
      "Requesting data for lebu...\n",
      "Requesting data for leh...\n",
      "Requesting data for vanimo...\n",
      "Requesting data for colac...\n",
      "Requesting data for neyshabur...\n",
      "Requesting data for ahar...\n",
      "Requesting data for nikolskoye...\n",
      "Requesting data for ereymentau...\n",
      "Requesting data for abnub...\n",
      "Requesting data for obidos...\n",
      "Requesting data for clyde river...\n",
      "Requesting data for sitka...\n",
      "Requesting data for ambon...\n",
      "Requesting data for puerto del rosario...\n",
      "Requesting data for kirakira...\n",
      "Requesting data for havelock...\n",
      "Requesting data for kasempa...\n",
      "Requesting data for lae...\n",
      "Requesting data for shchelyayur...\n",
      "shchelyayur is missing field(s) ... skipping\n",
      "Requesting data for guerrero negro...\n",
      "Requesting data for aginskoye...\n",
      "Requesting data for kushnarenkovo...\n",
      "Requesting data for kasongo-lunda...\n",
      "Requesting data for alekseyevka...\n",
      "Requesting data for sibolga...\n",
      "Requesting data for tailai...\n",
      "Requesting data for astana...\n",
      "Requesting data for poum...\n",
      "Requesting data for beringovskiy...\n",
      "Requesting data for samalaeulu...\n",
      "samalaeulu is missing field(s) ... skipping\n",
      "Requesting data for talnakh...\n",
      "Requesting data for victoria...\n",
      "Requesting data for mar del plata...\n",
      "Requesting data for faanui...\n",
      "Requesting data for tumannyy...\n",
      "tumannyy is missing field(s) ... skipping\n",
      "Requesting data for polewali...\n",
      "Requesting data for shemursha...\n",
      "Requesting data for new norfolk...\n",
      "Requesting data for yantai...\n",
      "Requesting data for hithadhoo...\n",
      "Requesting data for saleaula...\n",
      "saleaula is missing field(s) ... skipping\n",
      "Requesting data for lima...\n",
      "Requesting data for asau...\n",
      "Requesting data for cochrane...\n",
      "Requesting data for san patricio...\n",
      "Requesting data for kibala...\n",
      "Requesting data for cidreira...\n",
      "Requesting data for gorontalo...\n",
      "Requesting data for anadyr...\n",
      "Requesting data for praya...\n",
      "Requesting data for vardo...\n",
      "Requesting data for castro...\n",
      "Requesting data for chuy...\n",
      "Requesting data for palmer...\n",
      "Requesting data for grande-riviere...\n",
      "grande-riviere is missing field(s) ... skipping\n",
      "Requesting data for sentyabrskiy...\n",
      "sentyabrskiy is missing field(s) ... skipping\n",
      "Requesting data for kandalaksha...\n",
      "Requesting data for altamira...\n",
      "Requesting data for caravelas...\n",
      "Requesting data for cayenne...\n",
      "Requesting data for bikin...\n",
      "Requesting data for severo-kurilsk...\n",
      "Requesting data for vallenar...\n",
      "Requesting data for priyutnoye...\n",
      "Requesting data for broken hill...\n",
      "Requesting data for aleksandrovsk-sakhalinskiy...\n",
      "Requesting data for tacoronte...\n",
      "Requesting data for bilma...\n",
      "Requesting data for flinders...\n",
      "Requesting data for atbasar...\n",
      "Requesting data for ostrovnoy...\n",
      "Requesting data for eyrarbakki...\n",
      "Requesting data for sabha...\n",
      "Requesting data for solovetskiy...\n",
      "solovetskiy is missing field(s) ... skipping\n",
      "Requesting data for karratha...\n",
      "Requesting data for mahebourg...\n",
      "Requesting data for gambela...\n",
      "Requesting data for palana...\n",
      "Requesting data for korla...\n",
      "Requesting data for vryburg...\n",
      "Requesting data for bengkulu...\n"
     ]
    },
    {
     "name": "stdout",
     "output_type": "stream",
     "text": [
      "Requesting data for boa vista...\n",
      "Requesting data for mumford...\n",
      "Requesting data for honggang...\n",
      "Requesting data for sehithwa...\n",
      "Requesting data for aykhal...\n",
      "Requesting data for dikson...\n",
      "Requesting data for samusu...\n",
      "samusu is missing field(s) ... skipping\n",
      "Requesting data for port hedland...\n",
      "Requesting data for sistranda...\n",
      "Requesting data for saint andrews...\n",
      "Requesting data for torbay...\n",
      "Requesting data for taoudenni...\n",
      "Requesting data for ruatoria...\n",
      "ruatoria is missing field(s) ... skipping\n",
      "Requesting data for bressuire...\n",
      "Requesting data for geraldton...\n",
      "Requesting data for hornepayne...\n",
      "Requesting data for udachnyy...\n",
      "Requesting data for hofn...\n",
      "Requesting data for vilyuysk...\n",
      "Requesting data for bosaso...\n",
      "Requesting data for carnarvon...\n",
      "Requesting data for klaksvik...\n",
      "Requesting data for yeniseysk...\n",
      "Requesting data for nishihara...\n",
      "Requesting data for takoradi...\n",
      "Requesting data for sandy bay...\n",
      "Requesting data for barrow...\n",
      "Requesting data for thinadhoo...\n",
      "Requesting data for kudahuvadhoo...\n",
      "Requesting data for shache...\n",
      "Requesting data for isangel...\n",
      "Requesting data for grand gaube...\n",
      "Requesting data for dingle...\n",
      "Requesting data for camacha...\n",
      "Requesting data for fort nelson...\n",
      "Requesting data for vieux-habitants...\n",
      "Requesting data for asfi...\n",
      "Requesting data for ati...\n",
      "Requesting data for san-pedro...\n",
      "Requesting data for atambua...\n",
      "Requesting data for kawalu...\n",
      "Requesting data for mawlaik...\n",
      "Requesting data for bokspits...\n",
      "bokspits is missing field(s) ... skipping\n",
      "Requesting data for port-gentil...\n",
      "Requesting data for awbari...\n",
      "Requesting data for wanaka...\n",
      "Requesting data for portlethen...\n",
      "Requesting data for belaya glina...\n",
      "Requesting data for tual...\n",
      "Requesting data for deniliquin...\n",
      "Requesting data for copiapo...\n",
      "Requesting data for woodbridge...\n",
      "Requesting data for ushirombo...\n",
      "Requesting data for leningradskiy...\n",
      "Requesting data for petersburg...\n",
      "Requesting data for muscat...\n",
      "Requesting data for waipawa...\n",
      "Requesting data for artesia...\n",
      "Requesting data for canon city...\n",
      "Requesting data for roebourne...\n",
      "Requesting data for zhigansk...\n",
      "Requesting data for inirida...\n",
      "Requesting data for samarai...\n",
      "Requesting data for mehamn...\n",
      "Requesting data for thompson...\n",
      "Requesting data for new ross...\n",
      "Requesting data for grenville...\n",
      "Requesting data for ahipara...\n",
      "Requesting data for alofi...\n",
      "Requesting data for keelung...\n",
      "Requesting data for bonthe...\n",
      "Requesting data for ilulissat...\n",
      "Requesting data for vila velha...\n",
      "Requesting data for oktyabrskoye...\n",
      "Requesting data for innisfail...\n",
      "Requesting data for burns lake...\n",
      "Requesting data for cherskiy...\n",
      "Requesting data for isiro...\n",
      "Requesting data for los llanos de aridane...\n",
      "Requesting data for atherton...\n",
      "Requesting data for milkovo...\n",
      "Requesting data for karla...\n",
      "Requesting data for naliya...\n",
      "Requesting data for raga...\n",
      "Requesting data for paradwip...\n",
      "paradwip is missing field(s) ... skipping\n",
      "Requesting data for san martin...\n",
      "Requesting data for yamada...\n",
      "Requesting data for lumut...\n",
      "Requesting data for arua...\n",
      "Requesting data for trapani...\n",
      "Requesting data for harper...\n",
      "Requesting data for yar-sale...\n",
      "Requesting data for ormara...\n",
      "Requesting data for broome...\n",
      "Requesting data for banda aceh...\n",
      "Requesting data for katherine...\n",
      "Requesting data for san jeronimo...\n",
      "Requesting data for ternate...\n",
      "Requesting data for provideniya...\n",
      "Requesting data for luderitz...\n",
      "Requesting data for udaipur...\n",
      "Requesting data for salug...\n",
      "Requesting data for borkenes...\n",
      "Requesting data for ustye...\n",
      "Requesting data for viedma...\n",
      "Requesting data for souris...\n",
      "Requesting data for skibbereen...\n",
      "Requesting data for kedrovyy...\n",
      "Requesting data for porto novo...\n",
      "Requesting data for humaita...\n",
      "Requesting data for hambantota...\n",
      "Requesting data for teknaf...\n",
      "Requesting data for bac lieu...\n",
      "Requesting data for buqayq...\n",
      "buqayq is missing field(s) ... skipping\n",
      "Requesting data for ostersund...\n",
      "Requesting data for north platte...\n",
      "Requesting data for bredasdorp...\n",
      "Requesting data for singaraja...\n",
      "Requesting data for ghanzi...\n",
      "Requesting data for mizan teferi...\n",
      "Requesting data for cockburn town...\n",
      "Requesting data for the valley...\n",
      "Requesting data for karrapur...\n",
      "Requesting data for ahuimanu...\n",
      "Requesting data for kargopol...\n",
      "Requesting data for el naranjo...\n",
      "Requesting data for tautira...\n",
      "Requesting data for saryshagan...\n",
      "saryshagan is missing field(s) ... skipping\n",
      "Requesting data for kamenka...\n",
      "Requesting data for qianan...\n",
      "Requesting data for airai...\n",
      "Requesting data for fort walton beach...\n",
      "Requesting data for vila...\n",
      "Requesting data for la ronge...\n",
      "Requesting data for eqbaliyeh...\n",
      "Requesting data for tabou...\n",
      "Requesting data for hawkesbury...\n",
      "Requesting data for rocha...\n",
      "Requesting data for morondava...\n",
      "Requesting data for waitati...\n",
      "Requesting data for tiksi...\n",
      "Requesting data for lokosovo...\n",
      "Requesting data for pandan...\n",
      "Requesting data for catamarca...\n",
      "Requesting data for chokurdakh...\n",
      "Requesting data for teguise...\n",
      "Requesting data for shingu...\n",
      "Requesting data for kupang...\n",
      "Requesting data for djibo...\n",
      "Requesting data for katiola...\n",
      "Requesting data for el wasta...\n",
      "el wasta is missing field(s) ... skipping\n",
      "Requesting data for egvekinot...\n",
      "Requesting data for vuktyl...\n",
      "Requesting data for toliary...\n",
      "toliary is missing field(s) ... skipping\n",
      "Requesting data for sabzevar...\n",
      "Requesting data for belle fourche...\n",
      "Requesting data for westport...\n",
      "Requesting data for longyearbyen...\n",
      "Requesting data for henties bay...\n",
      "Requesting data for alice springs...\n",
      "Requesting data for faya...\n",
      "Requesting data for hojai...\n",
      "Requesting data for darab...\n",
      "Requesting data for staryy nadym...\n",
      "Requesting data for kupino...\n",
      "Requesting data for kapoeta...\n",
      "Requesting data for kharsawan...\n",
      "Requesting data for beniganj...\n",
      "Requesting data for gizo...\n",
      "Requesting data for yinchuan...\n",
      "Requesting data for hirara...\n",
      "Requesting data for algiers...\n",
      "Requesting data for opunake...\n",
      "Requesting data for san quintin...\n",
      "Requesting data for fairbanks...\n",
      "Requesting data for rio grande...\n",
      "Requesting data for cedar city...\n",
      "Requesting data for jiuquan...\n",
      "Requesting data for bauru...\n",
      "Requesting data for ruwi...\n",
      "Requesting data for ulladulla...\n",
      "Requesting data for bilibino...\n",
      "Requesting data for grimshaw...\n",
      "Requesting data for trairi...\n",
      "Requesting data for bida...\n",
      "Requesting data for bom despacho...\n",
      "Requesting data for gornopravdinsk...\n",
      "Requesting data for katol...\n",
      "Requesting data for aklavik...\n",
      "Requesting data for ust-tsilma...\n",
      "Requesting data for anjozorobe...\n",
      "Requesting data for oistins...\n",
      "Requesting data for rorvik...\n",
      "Requesting data for axim...\n",
      "Requesting data for carlyle...\n",
      "Requesting data for kanigiri...\n",
      "Requesting data for kloulklubed...\n",
      "Requesting data for brae...\n",
      "Requesting data for souillac...\n",
      "Requesting data for hanting...\n",
      "Requesting data for san jose...\n",
      "Requesting data for aloleng...\n",
      "Requesting data for bahia blanca...\n",
      "Requesting data for batemans bay...\n",
      "Requesting data for gardanne...\n",
      "Requesting data for kitimat...\n",
      "Requesting data for pauini...\n",
      "Requesting data for sonneberg...\n",
      "Requesting data for zemio...\n",
      "Requesting data for te anau...\n",
      "Requesting data for muros...\n",
      "Requesting data for baykit...\n",
      "Requesting data for beloha...\n",
      "Requesting data for cairns...\n",
      "Requesting data for waingapu...\n",
      "Requesting data for narrabri...\n",
      "Requesting data for shahrud...\n",
      "Requesting data for quiniput...\n",
      "Requesting data for show low...\n",
      "Requesting data for gat...\n",
      "Requesting data for hokitika...\n",
      "Requesting data for lewistown...\n",
      "Requesting data for wajir...\n",
      "Requesting data for fort saint james...\n",
      "Requesting data for manzanillo...\n",
      "Requesting data for sazonovo...\n",
      "Requesting data for saint-francois...\n",
      "Requesting data for uruzgan...\n",
      "Requesting data for seybaplaya...\n",
      "Requesting data for isfana...\n",
      "Requesting data for atka...\n",
      "atka is missing field(s) ... skipping\n",
      "Requesting data for sargatskoye...\n",
      "Requesting data for general roca...\n",
      "Requesting data for ishigaki...\n",
      "Requesting data for san cristobal...\n",
      "Requesting data for inta...\n",
      "Requesting data for prainha...\n",
      "Requesting data for saint anthony...\n",
      "Requesting data for lolodorf...\n",
      "Requesting data for la ligua...\n",
      "Requesting data for kavaratti...\n",
      "Requesting data for salalah...\n",
      "Requesting data for coahuayana...\n",
      "Requesting data for dafeng...\n",
      "Requesting data for saldanha...\n"
     ]
    },
    {
     "name": "stdout",
     "output_type": "stream",
     "text": [
      "Requesting data for chunhuhub...\n",
      "Requesting data for deh rawud...\n",
      "deh rawud is missing field(s) ... skipping\n",
      "Requesting data for gobabis...\n",
      "Requesting data for livingston...\n",
      "Requesting data for eucaliptus...\n",
      "Requesting data for rudnya...\n",
      "Requesting data for eureka...\n",
      "Requesting data for luganville...\n",
      "Requesting data for port lincoln...\n",
      "Requesting data for margate...\n",
      "Requesting data for nizhniy kuranakh...\n",
      "Requesting data for halalo...\n",
      "halalo is missing field(s) ... skipping\n",
      "Requesting data for port blair...\n",
      "Requesting data for grand river south east...\n",
      "grand river south east is missing field(s) ... skipping\n",
      "Requesting data for general pico...\n",
      "Requesting data for pringsewu...\n",
      "Requesting data for joniskelis...\n",
      "Requesting data for plettenberg bay...\n",
      "Requesting data for jiancheng...\n",
      "Requesting data for shangqiu...\n",
      "Requesting data for khani...\n",
      "Requesting data for betare oya...\n",
      "Requesting data for taltal...\n",
      "Requesting data for dungarpur...\n",
      "Requesting data for clarence town...\n",
      "Requesting data for maragogi...\n",
      "Requesting data for nantucket...\n",
      "Requesting data for pavlivka...\n",
      "Requesting data for constitucion...\n",
      "Requesting data for ursulo galvan...\n",
      "Requesting data for mayo...\n",
      "Requesting data for tiznit...\n",
      "Requesting data for hasaki...\n",
      "Requesting data for varhaug...\n",
      "Requesting data for dauphin...\n",
      "Requesting data for prince rupert...\n",
      "Requesting data for bandipur...\n",
      "Requesting data for qandala...\n",
      "Requesting data for mazyr...\n",
      "Requesting data for maputo...\n",
      "Requesting data for moose factory...\n",
      "Requesting data for whitianga...\n",
      "Requesting data for sao filipe...\n",
      "Requesting data for atar...\n",
      "Requesting data for rebrisoara...\n",
      "Requesting data for clemson...\n",
      "Requesting data for dalvik...\n",
      "Requesting data for nizwa...\n",
      "Requesting data for kimparana...\n",
      "Requesting data for umzimvubu...\n",
      "umzimvubu is missing field(s) ... skipping\n",
      "Requesting data for unye...\n",
      "unye is missing field(s) ... skipping\n",
      "Requesting data for japura...\n",
      "Requesting data for vila franca do campo...\n",
      "Requesting data for tanglad...\n",
      "Requesting data for comodoro rivadavia...\n",
      "Requesting data for lavumisa...\n",
      "Requesting data for hamilton...\n",
      "Requesting data for tuatapere...\n",
      "Requesting data for lagoa...\n",
      "Requesting data for chimbote...\n",
      "Requesting data for wajid...\n",
      "Requesting data for marcona...\n",
      "marcona is missing field(s) ... skipping\n",
      "Requesting data for cherepovets...\n",
      "Requesting data for qui nhon...\n",
      "Requesting data for okhotsk...\n",
      "Requesting data for labutta...\n",
      "labutta is missing field(s) ... skipping\n",
      "Requesting data for padang...\n",
      "Requesting data for lasa...\n",
      "Requesting data for longuenesse...\n",
      "Requesting data for ixtapa...\n",
      "Requesting data for samana...\n",
      "Requesting data for de-kastri...\n",
      "Requesting data for bolshaya martynovka...\n",
      "Requesting data for tazovskiy...\n",
      "Requesting data for xinzhou...\n",
      "Requesting data for kavieng...\n",
      "Requesting data for lock haven...\n",
      "Requesting data for marsh harbour...\n",
      "Requesting data for antalya...\n",
      "Requesting data for kichera...\n",
      "Requesting data for pevek...\n",
      "Requesting data for tapaua...\n",
      "tapaua is missing field(s) ... skipping\n",
      "Requesting data for wewak...\n",
      "Requesting data for erzin...\n",
      "Requesting data for novyy urengoy...\n",
      "Requesting data for almirante...\n",
      "Requesting data for edd...\n",
      "Requesting data for olafsvik...\n",
      "Requesting data for kokopo...\n",
      "Requesting data for houma...\n",
      "Requesting data for le creusot...\n",
      "Requesting data for sangueya...\n",
      "Requesting data for yuzhno-yeniseyskiy...\n",
      "yuzhno-yeniseyskiy is missing field(s) ... skipping\n",
      "Requesting data for revelstoke...\n",
      "Requesting data for jutai...\n",
      "Requesting data for la palma...\n",
      "Requesting data for orcotuna...\n",
      "Requesting data for westpunt...\n",
      "westpunt is missing field(s) ... skipping\n",
      "Requesting data for mandalgovi...\n",
      "Requesting data for salima...\n",
      "Requesting data for prince george...\n",
      "Requesting data for orsha...\n",
      "Requesting data for dali...\n",
      "Requesting data for hearst...\n",
      "Requesting data for ayagoz...\n",
      "Requesting data for asyut...\n",
      "Requesting data for santa eulalia del rio...\n",
      "santa eulalia del rio is missing field(s) ... skipping\n",
      "Requesting data for berlevag...\n",
      "Requesting data for yumen...\n",
      "Requesting data for sao sebastiao...\n",
      "Requesting data for pangnirtung...\n",
      "Requesting data for hamamatsu...\n",
      "Requesting data for mulki...\n",
      "Requesting data for parksville...\n",
      "Requesting data for vanderhoof...\n",
      "Requesting data for glace bay...\n",
      "Requesting data for mian channun...\n",
      "Requesting data for yerbogachen...\n",
      "Requesting data for nossa senhora das dores...\n",
      "Requesting data for sorland...\n",
      "Requesting data for malinyi...\n",
      "Requesting data for satitoa...\n",
      "satitoa is missing field(s) ... skipping\n",
      "Requesting data for kyrksaeterora...\n",
      "Requesting data for kaeo...\n",
      "Requesting data for nantai...\n",
      "Requesting data for kadykchan...\n",
      "kadykchan is missing field(s) ... skipping\n",
      "Requesting data for porto uniao...\n",
      "Requesting data for chernyshevskiy...\n",
      "Requesting data for san policarpo...\n",
      "Requesting data for cervo...\n",
      "Requesting data for toamasina...\n",
      "Requesting data for split...\n",
      "Requesting data for rolim de moura...\n",
      "rolim de moura is missing field(s) ... skipping\n",
      "Requesting data for rize...\n",
      "Requesting data for calamar...\n",
      "Requesting data for san carlos...\n",
      "Requesting data for lingyuan...\n",
      "Requesting data for tasbuget...\n",
      "tasbuget is missing field(s) ... skipping\n",
      "Requesting data for harigue...\n",
      "harigue is missing field(s) ... skipping\n",
      "Requesting data for havre-saint-pierre...\n",
      "Requesting data for magaria...\n",
      "Requesting data for bereda...\n",
      "Requesting data for tebingtinggi...\n",
      "Requesting data for raduzhnyy...\n",
      "Requesting data for deputatskiy...\n",
      "Requesting data for manggar...\n",
      "Requesting data for placerville...\n",
      "Requesting data for pondicherry...\n",
      "Requesting data for kamenica...\n",
      "Requesting data for kanye...\n",
      "Requesting data for altay...\n",
      "Requesting data for kodinsk...\n"
     ]
    }
   ],
   "source": [
    "#Grab base url\n",
    "base_url = 'https://api.openweathermap.org/data/2.5/weather?q='\n",
    "\n",
    "for index, row in cities_df.iterrows():\n",
    "    \n",
    "    city_search = row['city']\n",
    "    \n",
    "    #Create full url with imperial units\n",
    "    full_url = f\"{base_url}{city_search}&appid={api_key}&units=imperial\"\n",
    "    \n",
    "    #Make the api request\n",
    "    weather = requests.get(full_url).json()\n",
    "\n",
    "    #Append values requested to the data frame\n",
    "    try:\n",
    "        print(f\"Requesting data for {city_search}...\")\n",
    "        cities_df.loc[index, 'country'] = weather['sys']['country']\n",
    "        cities_df.loc[index, 'lat'] = weather['coord']['lat']\n",
    "        cities_df.loc[index, 'lng'] = weather['coord']['lon']\n",
    "        cities_df.loc[index, 'humidity'] = weather['main']['humidity']\n",
    "        cities_df.loc[index, 'temp'] = weather['main']['temp']\n",
    "        cities_df.loc[index, 'max_temp'] = weather['main']['temp_max']\n",
    "        cities_df.loc[index, 'clouds'] = weather['clouds']['all']\n",
    "        cities_df.loc[index, 'wind'] = weather['wind']['speed']\n",
    "    #If missing values, indicate with print statement\n",
    "    except(KeyError, IndexError):\n",
    "        print(f\"{city_search} is missing field(s) ... skipping\")\n"
   ]
  },
  {
   "cell_type": "markdown",
   "metadata": {},
   "source": [
    "### Convert Raw Data to DataFrame\n",
    "* Export the city data into a .csv.\n",
    "* Display the DataFrame"
   ]
  },
  {
   "cell_type": "code",
   "execution_count": 5,
   "metadata": {},
   "outputs": [
    {
     "data": {
      "text/html": [
       "<div>\n",
       "<style scoped>\n",
       "    .dataframe tbody tr th:only-of-type {\n",
       "        vertical-align: middle;\n",
       "    }\n",
       "\n",
       "    .dataframe tbody tr th {\n",
       "        vertical-align: top;\n",
       "    }\n",
       "\n",
       "    .dataframe thead th {\n",
       "        text-align: right;\n",
       "    }\n",
       "</style>\n",
       "<table border=\"1\" class=\"dataframe\">\n",
       "  <thead>\n",
       "    <tr style=\"text-align: right;\">\n",
       "      <th></th>\n",
       "      <th>city</th>\n",
       "      <th>country</th>\n",
       "      <th>lat</th>\n",
       "      <th>lng</th>\n",
       "      <th>humidity</th>\n",
       "      <th>temp</th>\n",
       "      <th>max_temp</th>\n",
       "      <th>clouds</th>\n",
       "      <th>wind</th>\n",
       "    </tr>\n",
       "  </thead>\n",
       "  <tbody>\n",
       "    <tr>\n",
       "      <th>0</th>\n",
       "      <td>georgetown</td>\n",
       "      <td>MY</td>\n",
       "      <td>5.4112</td>\n",
       "      <td>100.335</td>\n",
       "      <td>88</td>\n",
       "      <td>75.97</td>\n",
       "      <td>77</td>\n",
       "      <td>20</td>\n",
       "      <td>5.61</td>\n",
       "    </tr>\n",
       "    <tr>\n",
       "      <th>1</th>\n",
       "      <td>yanan</td>\n",
       "      <td></td>\n",
       "      <td></td>\n",
       "      <td></td>\n",
       "      <td></td>\n",
       "      <td></td>\n",
       "      <td></td>\n",
       "      <td></td>\n",
       "      <td></td>\n",
       "    </tr>\n",
       "    <tr>\n",
       "      <th>2</th>\n",
       "      <td>cape town</td>\n",
       "      <td>ZA</td>\n",
       "      <td>-33.9258</td>\n",
       "      <td>18.4232</td>\n",
       "      <td>82</td>\n",
       "      <td>67.1</td>\n",
       "      <td>69.01</td>\n",
       "      <td>0</td>\n",
       "      <td>16.11</td>\n",
       "    </tr>\n",
       "    <tr>\n",
       "      <th>3</th>\n",
       "      <td>kapaa</td>\n",
       "      <td>US</td>\n",
       "      <td>22.0752</td>\n",
       "      <td>-159.319</td>\n",
       "      <td>69</td>\n",
       "      <td>78.35</td>\n",
       "      <td>78.8</td>\n",
       "      <td>20</td>\n",
       "      <td>18.41</td>\n",
       "    </tr>\n",
       "    <tr>\n",
       "      <th>4</th>\n",
       "      <td>nelson bay</td>\n",
       "      <td>AU</td>\n",
       "      <td>-32.7167</td>\n",
       "      <td>152.15</td>\n",
       "      <td>78</td>\n",
       "      <td>72.61</td>\n",
       "      <td>73.99</td>\n",
       "      <td>75</td>\n",
       "      <td>9.22</td>\n",
       "    </tr>\n",
       "    <tr>\n",
       "      <th>...</th>\n",
       "      <td>...</td>\n",
       "      <td>...</td>\n",
       "      <td>...</td>\n",
       "      <td>...</td>\n",
       "      <td>...</td>\n",
       "      <td>...</td>\n",
       "      <td>...</td>\n",
       "      <td>...</td>\n",
       "      <td>...</td>\n",
       "    </tr>\n",
       "    <tr>\n",
       "      <th>615</th>\n",
       "      <td>pondicherry</td>\n",
       "      <td>IN</td>\n",
       "      <td>11.93</td>\n",
       "      <td>79.83</td>\n",
       "      <td>81</td>\n",
       "      <td>73.58</td>\n",
       "      <td>73.58</td>\n",
       "      <td>53</td>\n",
       "      <td>10.22</td>\n",
       "    </tr>\n",
       "    <tr>\n",
       "      <th>616</th>\n",
       "      <td>kamenica</td>\n",
       "      <td>DE</td>\n",
       "      <td>50.8333</td>\n",
       "      <td>12.9167</td>\n",
       "      <td>87</td>\n",
       "      <td>46.54</td>\n",
       "      <td>46.99</td>\n",
       "      <td>90</td>\n",
       "      <td>9.22</td>\n",
       "    </tr>\n",
       "    <tr>\n",
       "      <th>617</th>\n",
       "      <td>kanye</td>\n",
       "      <td>BW</td>\n",
       "      <td>-24.9667</td>\n",
       "      <td>25.3327</td>\n",
       "      <td>93</td>\n",
       "      <td>60.85</td>\n",
       "      <td>60.85</td>\n",
       "      <td>100</td>\n",
       "      <td>19.95</td>\n",
       "    </tr>\n",
       "    <tr>\n",
       "      <th>618</th>\n",
       "      <td>altay</td>\n",
       "      <td>CN</td>\n",
       "      <td>47.8667</td>\n",
       "      <td>88.1167</td>\n",
       "      <td>79</td>\n",
       "      <td>13.51</td>\n",
       "      <td>13.51</td>\n",
       "      <td>90</td>\n",
       "      <td>1.25</td>\n",
       "    </tr>\n",
       "    <tr>\n",
       "      <th>619</th>\n",
       "      <td>kodinsk</td>\n",
       "      <td>RU</td>\n",
       "      <td>58.6881</td>\n",
       "      <td>99.1844</td>\n",
       "      <td>88</td>\n",
       "      <td>-8.3</td>\n",
       "      <td>-8.3</td>\n",
       "      <td>100</td>\n",
       "      <td>4.74</td>\n",
       "    </tr>\n",
       "  </tbody>\n",
       "</table>\n",
       "<p>620 rows × 9 columns</p>\n",
       "</div>"
      ],
      "text/plain": [
       "            city country      lat      lng humidity   temp max_temp clouds  \\\n",
       "0     georgetown      MY   5.4112  100.335       88  75.97       77     20   \n",
       "1          yanan                                                             \n",
       "2      cape town      ZA -33.9258  18.4232       82   67.1    69.01      0   \n",
       "3          kapaa      US  22.0752 -159.319       69  78.35     78.8     20   \n",
       "4     nelson bay      AU -32.7167   152.15       78  72.61    73.99     75   \n",
       "..           ...     ...      ...      ...      ...    ...      ...    ...   \n",
       "615  pondicherry      IN    11.93    79.83       81  73.58    73.58     53   \n",
       "616     kamenica      DE  50.8333  12.9167       87  46.54    46.99     90   \n",
       "617        kanye      BW -24.9667  25.3327       93  60.85    60.85    100   \n",
       "618        altay      CN  47.8667  88.1167       79  13.51    13.51     90   \n",
       "619      kodinsk      RU  58.6881  99.1844       88   -8.3     -8.3    100   \n",
       "\n",
       "      wind  \n",
       "0     5.61  \n",
       "1           \n",
       "2    16.11  \n",
       "3    18.41  \n",
       "4     9.22  \n",
       "..     ...  \n",
       "615  10.22  \n",
       "616   9.22  \n",
       "617  19.95  \n",
       "618   1.25  \n",
       "619   4.74  \n",
       "\n",
       "[620 rows x 9 columns]"
      ]
     },
     "execution_count": 5,
     "metadata": {},
     "output_type": "execute_result"
    }
   ],
   "source": [
    "cities_df"
   ]
  },
  {
   "cell_type": "code",
   "execution_count": 6,
   "metadata": {},
   "outputs": [],
   "source": [
    "#Drop row if there is an empty string in any cell\n",
    "for index, row in cities_df.iterrows():\n",
    "    if (row['lat'] == '') | (row['lng'] == '') | (row['humidity'] == '') | (row['temp'] == '') | (row['clouds'] == '') | (row['wind'] == ''):\n",
    "        cities_df.drop(index,inplace=True)"
   ]
  },
  {
   "cell_type": "markdown",
   "metadata": {},
   "source": [
    "## Inspect the data and remove the cities where the humidity > 100%.\n",
    "----\n",
    "Skip this step if there are no cities that have humidity > 100%. "
   ]
  },
  {
   "cell_type": "code",
   "execution_count": 7,
   "metadata": {},
   "outputs": [],
   "source": [
    "#Clear out all cities where humidity is > 100%\n",
    "clean_cities_df = cities_df.loc[cities_df['humidity'] < 100, :]\n",
    "\n",
    "clean_cities_df\n",
    "\n",
    "clean_cities_df.to_csv('city_data.csv')"
   ]
  },
  {
   "cell_type": "markdown",
   "metadata": {},
   "source": [
    "## Plotting the Data\n",
    "* Use proper labeling of the plots using plot titles (including date of analysis) and axes labels.\n",
    "* Save the plotted figures as .pngs."
   ]
  },
  {
   "cell_type": "markdown",
   "metadata": {},
   "source": [
    "## Latitude vs. Temperature Plot"
   ]
  },
  {
   "cell_type": "code",
   "execution_count": 8,
   "metadata": {
    "scrolled": true
   },
   "outputs": [
    {
     "data": {
      "text/plain": [
       "Text(0, 0.5, 'Latitude')"
      ]
     },
     "execution_count": 8,
     "metadata": {},
     "output_type": "execute_result"
    },
    {
     "data": {
      "image/png": "[encoded data removed]",
      "text/plain": [
       "<Figure size 432x288 with 1 Axes>"
      ]
     },
     "metadata": {
      "needs_background": "light"
     },
     "output_type": "display_data"
    }
   ],
   "source": [
    "#Plot\n",
    "plt.scatter(clean_cities_df['temp'], clean_cities_df['lat'])\n",
    "\n",
    "#Labels, etc\n",
    "plt.title('Latitude vs. Temperature')\n",
    "plt.xlabel('Temperature (F)')\n",
    "plt.ylabel('Latitude')"
   ]
  },
  {
   "cell_type": "markdown",
   "metadata": {},
   "source": [
    "This plot charts latitude vs current temperature (as of ~12pm 2/2/2021) for the randomly selected cities. Based on the plot generated, the northermost cities (30 degrees or more) have the coolest temperatures, while those around 5 to -5 degrees have the warmest temeratures. There is then a slight dip at the southernmost latitudes. This is what we would expect given how the seasons are distributed over latitude this time of year."
   ]
  },
  {
   "cell_type": "markdown",
   "metadata": {},
   "source": [
    "## Latitude vs. Humidity Plot"
   ]
  },
  {
   "cell_type": "code",
   "execution_count": 9,
   "metadata": {
    "scrolled": true
   },
   "outputs": [
    {
     "data": {
      "text/plain": [
       "Text(0, 0.5, 'Latitude')"
      ]
     },
     "execution_count": 9,
     "metadata": {},
     "output_type": "execute_result"
    },
    {
     "data": {
      "image/png": "[encoded data removed]",
      "text/plain": [
       "<Figure size 432x288 with 1 Axes>"
      ]
     },
     "metadata": {
      "needs_background": "light"
     },
     "output_type": "display_data"
    }
   ],
   "source": [
    "#Plot\n",
    "plt.scatter(clean_cities_df['humidity'], clean_cities_df['lat'])\n",
    "\n",
    "#Labels, etc\n",
    "plt.title('Latitude vs. Humidity')\n",
    "plt.xlabel('Humidity (%)')\n",
    "plt.ylabel('Latitude')"
   ]
  },
  {
   "cell_type": "markdown",
   "metadata": {},
   "source": [
    "This plot charts latitude vs current temperature (as of ~12pm 2/2/2021) for the randomly selected cities. Based on the plot generated, there appears to be a slight positive correlation between latitudes and humidity, with many of the data points trending towards high latitude-high humidity. This relationship is not clear cut, however, as many mid-lower (10 to -30 degrees) also have relatively high humidity levels. The lowest humidity seems to cluster around 10 to 30 and -30 to -50 degrees. "
   ]
  },
  {
   "cell_type": "markdown",
   "metadata": {},
   "source": [
    "## Latitude vs. Cloudiness Plot"
   ]
  },
  {
   "cell_type": "code",
   "execution_count": 10,
   "metadata": {},
   "outputs": [
    {
     "data": {
      "text/plain": [
       "Text(0, 0.5, 'Latitude')"
      ]
     },
     "execution_count": 10,
     "metadata": {},
     "output_type": "execute_result"
    },
    {
     "data": {
      "image/png": "[encoded data removed]",
      "text/plain": [
       "<Figure size 432x288 with 1 Axes>"
      ]
     },
     "metadata": {
      "needs_background": "light"
     },
     "output_type": "display_data"
    }
   ],
   "source": [
    "#Plot\n",
    "plt.scatter(clean_cities_df['clouds'], clean_cities_df['lat'])\n",
    "\n",
    "#Labels, etc\n",
    "plt.title('Latitude vs. Cloudiness')\n",
    "plt.xlabel('% Cloud Cover')\n",
    "plt.ylabel('Latitude')"
   ]
  },
  {
   "cell_type": "markdown",
   "metadata": {},
   "source": [
    "This plot charts latitude vs cloudiness (% cloud cover) (as of ~12pm 2/2/2021) for the randomly selected cities. Based on the plot generated, there is no clear relationship between cloud cover and latitude. There seems to be an equal distribution of 0% and 100% cloudiness at most latitudes, suggesting these variables are independent of one another."
   ]
  },
  {
   "cell_type": "markdown",
   "metadata": {},
   "source": [
    "## Latitude vs. Wind Speed Plot"
   ]
  },
  {
   "cell_type": "code",
   "execution_count": 11,
   "metadata": {
    "scrolled": true
   },
   "outputs": [
    {
     "data": {
      "text/plain": [
       "Text(0, 0.5, 'Latitude')"
      ]
     },
     "execution_count": 11,
     "metadata": {},
     "output_type": "execute_result"
    },
    {
     "data": {
      "image/png": "[encoded data removed]",
      "text/plain": [
       "<Figure size 432x288 with 1 Axes>"
      ]
     },
     "metadata": {
      "needs_background": "light"
     },
     "output_type": "display_data"
    }
   ],
   "source": [
    "#Plot\n",
    "plt.scatter(clean_cities_df['wind'], clean_cities_df['lat'])\n",
    "\n",
    "#Labels, etc\n",
    "plt.title('Latitude vs. Wind Speed')\n",
    "plt.xlabel('Wind Spped (mph)')\n",
    "plt.ylabel('Latitude')"
   ]
  },
  {
   "cell_type": "markdown",
   "metadata": {},
   "source": [
    "This plot charts latitude vs wind spped (mph) (as of ~12pm 2/2/2021) for the randomly selected cities. Based on the plot generated, there is no clear relationship between wind speend and latitude. Most cities have wind speeds of less than 15 miles per hour, and outliers can be seen at various latitudes. "
   ]
  },
  {
   "cell_type": "markdown",
   "metadata": {},
   "source": [
    "## Linear Regression"
   ]
  },
  {
   "cell_type": "code",
   "execution_count": 12,
   "metadata": {},
   "outputs": [],
   "source": [
    "#Filter to northern latitudes only\n",
    "#Northern df also includes where lat = 0\n",
    "northern_lats = clean_cities_df.loc[clean_cities_df['lat'] >= 0, :]\n",
    "\n",
    "#Filter to southern latitudes only\n",
    "southern_lats = clean_cities_df.loc[clean_cities_df['lat'] < 0, :]"
   ]
  },
  {
   "cell_type": "markdown",
   "metadata": {},
   "source": [
    "####  Northern Hemisphere - Max Temp vs. Latitude Linear Regression"
   ]
  },
  {
   "cell_type": "code",
   "execution_count": 13,
   "metadata": {},
   "outputs": [
    {
     "data": {
      "text/plain": [
       "Text(35, 75, 'y = -0.57x + 61.26')"
      ]
     },
     "execution_count": 13,
     "metadata": {},
     "output_type": "execute_result"
    },
    {
     "data": {
      "image/png": "[encoded data removed]",
      "text/plain": [
       "<Figure size 432x288 with 1 Axes>"
      ]
     },
     "metadata": {
      "needs_background": "light"
     },
     "output_type": "display_data"
    }
   ],
   "source": [
    "#Calculations for finding the components of the regression line\n",
    "x_values = northern_lats['max_temp']\n",
    "y_values = northern_lats['lat']\n",
    "\n",
    "#Get values for the regression line for plotting\n",
    "(slope, intercept, rvalue, pvalue, stderr) = linregress(x_values.astype('float'), y_values.astype('float'))\n",
    "regress_values = x_values * slope + intercept\n",
    "\n",
    "#Get equation for the linear regression\n",
    "line_eq = \"y = \" + str(round(slope,2)) + \"x + \" + str(round(intercept,2))\n",
    "\n",
    "#Plot scatter and regression line over the top\n",
    "plt.scatter(x_values,y_values)\n",
    "plt.plot(x_values,regress_values,\"r-\")\n",
    "\n",
    "#Labels, etc\n",
    "plt.title('Latitude vs. Max Temp (F) - N. Hemisphere Only')\n",
    "plt.xlabel('Max Temperature (F)')\n",
    "plt.ylabel('Latitude')\n",
    "\n",
    "#Put equation on the plot\n",
    "plt.annotate(line_eq,(35, 75),fontsize=15,color=\"red\")"
   ]
  },
  {
   "cell_type": "markdown",
   "metadata": {},
   "source": [
    "####  Southern Hemisphere - Max Temp vs. Latitude Linear Regression"
   ]
  },
  {
   "cell_type": "code",
   "execution_count": 14,
   "metadata": {
    "scrolled": true
   },
   "outputs": [
    {
     "data": {
      "text/plain": [
       "Text(73, -53, 'y = 0.87x + -86.14')"
      ]
     },
     "execution_count": 14,
     "metadata": {},
     "output_type": "execute_result"
    },
    {
     "data": {
      "image/png": "[encoded data removed]",
      "text/plain": [
       "<Figure size 432x288 with 1 Axes>"
      ]
     },
     "metadata": {
      "needs_background": "light"
     },
     "output_type": "display_data"
    }
   ],
   "source": [
    "#Calculations for finding the components of the regression line\n",
    "x_values = southern_lats['max_temp']\n",
    "y_values = southern_lats['lat']\n",
    "\n",
    "#Get values for the regression line for plotting\n",
    "(slope, intercept, rvalue, pvalue, stderr) = linregress(x_values.astype('float'), y_values.astype('float'))\n",
    "regress_values = x_values * slope + intercept\n",
    "\n",
    "#Get equation for the linear regression\n",
    "line_eq = \"y = \" + str(round(slope,2)) + \"x + \" + str(round(intercept,2))\n",
    "\n",
    "#Plot scatter and regression line over the top\n",
    "plt.scatter(x_values,y_values)\n",
    "plt.plot(x_values,regress_values,\"r-\")\n",
    "\n",
    "#Labels, etc\n",
    "plt.title('Latitude vs. Max Temp (F) - S. Hemisphere Only')\n",
    "plt.xlabel('Max Temperature (F)')\n",
    "plt.ylabel('Latitude')\n",
    "\n",
    "#Put equation on the plot\n",
    "plt.annotate(line_eq,(73, -53),fontsize=15,color=\"red\")"
   ]
  },
  {
   "cell_type": "markdown",
   "metadata": {},
   "source": [
    "For the above plots of temperature vs latitude, the linear regression shows a clear negative correlation betwenn temperature and latitude in the northern hemisphere (temperature increases as latitude declines). In the southern hemisphere, the regression line is positive, but the correlation is clearly weaker. This is expected given that, at this time of year (mid-late winter) the sun's energy is distibuted more across the southern hemisphere, but moving towards the northern hemisphere as the spring equinox approaches."
   ]
  },
  {
   "cell_type": "markdown",
   "metadata": {},
   "source": [
    "####  Northern Hemisphere - Humidity (%) vs. Latitude Linear Regression"
   ]
  },
  {
   "cell_type": "code",
   "execution_count": 15,
   "metadata": {},
   "outputs": [
    {
     "data": {
      "text/plain": [
       "Text(15, 60, 'y = 0.46x + 4.64')"
      ]
     },
     "execution_count": 15,
     "metadata": {},
     "output_type": "execute_result"
    },
    {
     "data": {
      "image/png": "[encoded data removed]",
      "text/plain": [
       "<Figure size 432x288 with 1 Axes>"
      ]
     },
     "metadata": {
      "needs_background": "light"
     },
     "output_type": "display_data"
    }
   ],
   "source": [
    "#Calculations for finding the components of the regression line\n",
    "x_values = northern_lats['humidity']\n",
    "y_values = northern_lats['lat']\n",
    "\n",
    "#Get values for the regression line for plotting\n",
    "(slope, intercept, rvalue, pvalue, stderr) = linregress(x_values.astype('float'), y_values.astype('float'))\n",
    "regress_values = x_values * slope + intercept\n",
    "\n",
    "#Get equation for the linear regression\n",
    "line_eq = \"y = \" + str(round(slope,2)) + \"x + \" + str(round(intercept,2))\n",
    "\n",
    "#Plot scatter and regression line over the top\n",
    "plt.scatter(x_values,y_values)\n",
    "plt.plot(x_values,regress_values,\"r-\")\n",
    "\n",
    "#Labels, etc\n",
    "plt.title('Latitude vs. Humidity (%) - N. Hemisphere Only')\n",
    "plt.xlabel('Humidity (%)')\n",
    "plt.ylabel('Latitude')\n",
    "\n",
    "#Put equation on the plot\n",
    "plt.annotate(line_eq,(15, 60),fontsize=15,color=\"red\")"
   ]
  },
  {
   "cell_type": "markdown",
   "metadata": {},
   "source": [
    "####  Southern Hemisphere - Humidity (%) vs. Latitude Linear Regression"
   ]
  },
  {
   "cell_type": "code",
   "execution_count": 16,
   "metadata": {
    "scrolled": true
   },
   "outputs": [
    {
     "data": {
      "text/plain": [
       "Text(20, -53, 'y = 0.4x + -52.47')"
      ]
     },
     "execution_count": 16,
     "metadata": {},
     "output_type": "execute_result"
    },
    {
     "data": {
      "image/png": "[encoded data removed]",
      "text/plain": [
       "<Figure size 432x288 with 1 Axes>"
      ]
     },
     "metadata": {
      "needs_background": "light"
     },
     "output_type": "display_data"
    }
   ],
   "source": [
    "#Calculations for finding the components of the regression line\n",
    "x_values = southern_lats['humidity']\n",
    "y_values = southern_lats['lat']\n",
    "\n",
    "#Get values for the regression line for plotting\n",
    "(slope, intercept, rvalue, pvalue, stderr) = linregress(x_values.astype('float'), y_values.astype('float'))\n",
    "regress_values = x_values * slope + intercept\n",
    "\n",
    "#Get equation for the linear regression\n",
    "line_eq = \"y = \" + str(round(slope,2)) + \"x + \" + str(round(intercept,2))\n",
    "\n",
    "#Plot scatter and regression line over the top\n",
    "plt.scatter(x_values,y_values)\n",
    "plt.plot(x_values,regress_values,\"r-\")\n",
    "\n",
    "#Labels, etc\n",
    "plt.title('Latitude vs. Humidity (%) - S. Hemisphere Only')\n",
    "plt.xlabel('Humidity (%)')\n",
    "plt.ylabel('Latitude')\n",
    "\n",
    "#Put equation on the plot\n",
    "plt.annotate(line_eq,(20, -53),fontsize=15,color=\"red\")"
   ]
  },
  {
   "cell_type": "markdown",
   "metadata": {},
   "source": [
    "For the above plots of humidity vs latitude, the linear regression shows a positive correlation in both hemispheres (humidity increases as latitude increeases) though the relationship is relatively weak. Interestingly, the regressioons have abpout the same slope (so roughly the same correlation) even though the lines start at very different y-intercepts. This indicates that there is some shift around the equator that has distictly higher humidity south of the equator and distinctly lower humidities to the north. "
   ]
  },
  {
   "cell_type": "markdown",
   "metadata": {},
   "source": [
    "####  Northern Hemisphere - Cloudiness (%) vs. Latitude Linear Regression"
   ]
  },
  {
   "cell_type": "code",
   "execution_count": 17,
   "metadata": {},
   "outputs": [
    {
     "data": {
      "text/plain": [
       "Text(6, 75, 'y = 0.15x + 31.63')"
      ]
     },
     "execution_count": 17,
     "metadata": {},
     "output_type": "execute_result"
    },
    {
     "data": {
      "image/png": "[encoded data removed]",
      "text/plain": [
       "<Figure size 432x288 with 1 Axes>"
      ]
     },
     "metadata": {
      "needs_background": "light"
     },
     "output_type": "display_data"
    }
   ],
   "source": [
    "#Calculations for finding the components of the regression line\n",
    "x_values = northern_lats['clouds']\n",
    "y_values = northern_lats['lat']\n",
    "\n",
    "#Get values for the regression line for plotting\n",
    "(slope, intercept, rvalue, pvalue, stderr) = linregress(x_values.astype('float'), y_values.astype('float'))\n",
    "regress_values = x_values * slope + intercept\n",
    "\n",
    "#Get equation for the linear regression\n",
    "line_eq = \"y = \" + str(round(slope,2)) + \"x + \" + str(round(intercept,2))\n",
    "\n",
    "#Plot scatter and regression line over the top\n",
    "plt.scatter(x_values,y_values)\n",
    "plt.plot(x_values,regress_values,\"r-\")\n",
    "\n",
    "#Labels, etc\n",
    "plt.title('Latitude vs. Cloudiness (%) - N. Hemisphere Only')\n",
    "plt.xlabel('Cloudiness (%)')\n",
    "plt.ylabel('Latitude')\n",
    "\n",
    "#Put equation on the plot\n",
    "plt.annotate(line_eq,(6, 75),fontsize=15,color=\"red\")"
   ]
  },
  {
   "cell_type": "markdown",
   "metadata": {},
   "source": [
    "####  Southern Hemisphere - Cloudiness (%) vs. Latitude Linear Regression"
   ]
  },
  {
   "cell_type": "code",
   "execution_count": 18,
   "metadata": {
    "scrolled": true
   },
   "outputs": [
    {
     "data": {
      "text/plain": [
       "Text(4, -53, 'y = 0.09x + -27.42')"
      ]
     },
     "execution_count": 18,
     "metadata": {},
     "output_type": "execute_result"
    },
    {
     "data": {
      "image/png": "[encoded data removed]",
      "text/plain": [
       "<Figure size 432x288 with 1 Axes>"
      ]
     },
     "metadata": {
      "needs_background": "light"
     },
     "output_type": "display_data"
    }
   ],
   "source": [
    "#Calculations for finding the components of the regression line\n",
    "x_values = southern_lats['clouds']\n",
    "y_values = southern_lats['lat']\n",
    "\n",
    "#Get values for the regression line for plotting\n",
    "(slope, intercept, rvalue, pvalue, stderr) = linregress(x_values.astype('float'), y_values.astype('float'))\n",
    "regress_values = x_values * slope + intercept\n",
    "\n",
    "#Get equation for the linear regression\n",
    "line_eq = \"y = \" + str(round(slope,2)) + \"x + \" + str(round(intercept,2))\n",
    "\n",
    "#Plot scatter and regression line over the top\n",
    "plt.scatter(x_values,y_values)\n",
    "plt.plot(x_values,regress_values,\"r-\")\n",
    "\n",
    "#Labels, etc\n",
    "plt.title('Latitude vs. Cloudiness (%) - S. Hemisphere Only')\n",
    "plt.xlabel('Cloudiness (%)')\n",
    "plt.ylabel('Latitude')\n",
    "\n",
    "#Put equation on the plot\n",
    "plt.annotate(line_eq,(4, -53),fontsize=15,color=\"red\")"
   ]
  },
  {
   "cell_type": "markdown",
   "metadata": {},
   "source": [
    "For the above plots of cloudiness (% cloud cover) vs latitude, the linear regression shows no clear relationship between cloud cover and latitude. Both regression slopes are very close to zero, which would indicate no relationship whatsoever between the two variables. This trend is observed in both hemispheres. "
   ]
  },
  {
   "cell_type": "markdown",
   "metadata": {},
   "source": [
    "####  Northern Hemisphere - Wind Speed (mph) vs. Latitude Linear Regression"
   ]
  },
  {
   "cell_type": "code",
   "execution_count": 19,
   "metadata": {},
   "outputs": [
    {
     "data": {
      "text/plain": [
       "Text(14, 75, 'y = 0.35x + 35.88')"
      ]
     },
     "execution_count": 19,
     "metadata": {},
     "output_type": "execute_result"
    },
    {
     "data": {
      "image/png": "[encoded data removed]",
      "text/plain": [
       "<Figure size 432x288 with 1 Axes>"
      ]
     },
     "metadata": {
      "needs_background": "light"
     },
     "output_type": "display_data"
    }
   ],
   "source": [
    "#Calculations for finding the components of the regression line\n",
    "x_values = northern_lats['wind']\n",
    "y_values = northern_lats['lat']\n",
    "\n",
    "#Get values for the regression line for plotting\n",
    "(slope, intercept, rvalue, pvalue, stderr) = linregress(x_values.astype('float'), y_values.astype('float'))\n",
    "regress_values = x_values * slope + intercept\n",
    "\n",
    "#Get equation for the linear regression\n",
    "line_eq = \"y = \" + str(round(slope,2)) + \"x + \" + str(round(intercept,2))\n",
    "\n",
    "#Plot scatter and regression line over the top\n",
    "plt.scatter(x_values,y_values)\n",
    "plt.plot(x_values,regress_values,\"r-\")\n",
    "\n",
    "#Labels, etc\n",
    "plt.title('Latitude vs. Wind Speed (mph) - N. Hemisphere Only')\n",
    "plt.xlabel('Wind Speed (mph)')\n",
    "plt.ylabel('Latitude')\n",
    "\n",
    "#Put equation on the plot\n",
    "plt.annotate(line_eq,(14, 75),fontsize=15,color=\"red\")"
   ]
  },
  {
   "cell_type": "markdown",
   "metadata": {},
   "source": [
    "####  Southern Hemisphere - Wind Speed (mph) vs. Latitude Linear Regression"
   ]
  },
  {
   "cell_type": "code",
   "execution_count": 20,
   "metadata": {},
   "outputs": [
    {
     "data": {
      "text/plain": [
       "Text(21, -40, 'y = -0.39x + -19.29')"
      ]
     },
     "execution_count": 20,
     "metadata": {},
     "output_type": "execute_result"
    },
    {
     "data": {
      "image/png": "[encoded data removed]",
      "text/plain": [
       "<Figure size 432x288 with 1 Axes>"
      ]
     },
     "metadata": {
      "needs_background": "light"
     },
     "output_type": "display_data"
    }
   ],
   "source": [
    "#Calculations for finding the components of the regression line\n",
    "x_values = southern_lats['wind']\n",
    "y_values = southern_lats['lat']\n",
    "\n",
    "#Get values for the regression line for plotting\n",
    "(slope, intercept, rvalue, pvalue, stderr) = linregress(x_values.astype('float'), y_values.astype('float'))\n",
    "regress_values = x_values * slope + intercept\n",
    "\n",
    "#Get equation for the linear regression\n",
    "line_eq = \"y = \" + str(round(slope,2)) + \"x + \" + str(round(intercept,2))\n",
    "\n",
    "#Plot scatter and regression line over the top\n",
    "plt.scatter(x_values,y_values)\n",
    "plt.plot(x_values,regress_values,\"r-\")\n",
    "\n",
    "#Labels, etc\n",
    "plt.title('Latitude vs. Wind Speed (mph) - S. Hemisphere Only')\n",
    "plt.xlabel('Wind Speed (mph)')\n",
    "plt.ylabel('Latitude')\n",
    "\n",
    "#Put equation on the plot\n",
    "plt.annotate(line_eq,(21, -40),fontsize=15,color=\"red\")"
   ]
  },
  {
   "cell_type": "markdown",
   "metadata": {},
   "source": [
    "For the above plots of wind speed (mph) vs latitude, the linear regression shows a negative correlation in the southern hemisphere and a positive correlation in the northern hemisphere. However, since most all of the data is clustered below 20 mph, these trend lines are clearly influenced on the presence of outliers, not on actual observable trends. These regression lines would likely do a poor job of predicting any weather outcomes. "
   ]
  },
  {
   "cell_type": "code",
   "execution_count": null,
   "metadata": {},
   "outputs": [],
   "source": []
  }
 ],
 "metadata": {
  "anaconda-cloud": {},
  "kernel_info": {
   "name": "python3"
  },
  "kernelspec": {
   "display_name": "Python 3",
   "language": "python",
   "name": "python3"
  },
  "language_info": {
   "codemirror_mode": {
    "name": "ipython",
    "version": 3
   },
   "file_extension": ".py",
   "mimetype": "text/x-python",
   "name": "python",
   "nbconvert_exporter": "python",
   "pygments_lexer": "ipython3",
   "version": "3.6.10"
  },
  "latex_envs": {
   "LaTeX_envs_menu_present": true,
   "autoclose": false,
   "autocomplete": true,
   "bibliofile": "biblio.bib",
   "cite_by": "apalike",
   "current_citInitial": 1,
   "eqLabelWithNumbers": true,
   "eqNumInitial": 1,
   "hotkeys": {
    "equation": "Ctrl-E",
    "itemize": "Ctrl-I"
   },
   "labels_anchors": false,
   "latex_user_defs": false,
   "report_style_numbering": false,
   "user_envs_cfg": false
  },
  "nteract": {
   "version": "0.12.3"
  }
 },
 "nbformat": 4,
 "nbformat_minor": 2
}
